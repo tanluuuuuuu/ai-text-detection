{
 "cells": [
  {
   "cell_type": "code",
   "execution_count": 1,
   "id": "9f588023",
   "metadata": {
    "_cell_guid": "b1076dfc-b9ad-4769-8c92-a6c4dae69d19",
    "_uuid": "8f2839f25d086af736a60e9eeb907d3b93b6e0e5",
    "execution": {
     "iopub.execute_input": "2024-08-21T02:30:01.630470Z",
     "iopub.status.busy": "2024-08-21T02:30:01.630026Z",
     "iopub.status.idle": "2024-08-21T02:30:04.503025Z",
     "shell.execute_reply": "2024-08-21T02:30:04.501894Z"
    },
    "papermill": {
     "duration": 2.882099,
     "end_time": "2024-08-21T02:30:04.505701",
     "exception": false,
     "start_time": "2024-08-21T02:30:01.623602",
     "status": "completed"
    },
    "tags": []
   },
   "outputs": [],
   "source": [
    "import os\n",
    "import numpy as np # linear algebra\n",
    "import pandas as pd # data processing, CSV file I/O (e.g. pd.read_csv)\n",
    "from sklearn.linear_model import LogisticRegression, SGDClassifier\n",
    "from sklearn import svm\n",
    "from sklearn.pipeline import Pipeline\n",
    "from sklearn.preprocessing import LabelBinarizer\n",
    "from sklearn.model_selection import train_test_split\n",
    "from sklearn.feature_extraction.text import CountVectorizer, TfidfVectorizer\n",
    "import xgboost as xgb\n",
    "from xgboost import XGBClassifier\n",
    "from sklearn.naive_bayes import MultinomialNB\n",
    "from sklearn.ensemble import VotingClassifier\n",
    "from sklearn.linear_model import SGDClassifier\n",
    "# import cudf\n",
    "# import cuml\n",
    "# from cuml.feature_extraction.text import TfidfVectorizer as cuTfidfVectorizer\n",
    "# from cuml.linear_model import LogisticRegression as cuLogisticRegression\n",
    "# from cuml.linear_model import MBSGDClassifier as cuSGDClassifier\n",
    "# from cuml.naive_bayes import MultinomialNB as cuMultinomialNB\n",
    "# import xgboost as xgb\n",
    "# from sklearn.ensemble import VotingClassifier\n",
    "from sklearn.metrics import accuracy_score, precision_score, recall_score, f1_score, confusion_matrix, classification_report\n",
    "\n"
   ]
  },
  {
   "cell_type": "code",
   "execution_count": 2,
   "id": "a6705b4e",
   "metadata": {
    "execution": {
     "iopub.execute_input": "2024-08-21T02:30:04.516944Z",
     "iopub.status.busy": "2024-08-21T02:30:04.516414Z",
     "iopub.status.idle": "2024-08-21T02:45:25.936831Z",
     "shell.execute_reply": "2024-08-21T02:45:25.935727Z"
    },
    "papermill": {
     "duration": 921.429363,
     "end_time": "2024-08-21T02:45:25.939941",
     "exception": false,
     "start_time": "2024-08-21T02:30:04.510578",
     "status": "completed"
    },
    "tags": []
   },
   "outputs": [],
   "source": [
    "train = pd.read_csv('/kaggle/input/generated-text/data_split/train.csv')\n",
    "test = pd.read_csv('/kaggle/input/generated-text/data_split/test.csv')\n",
    "val = pd.read_csv('/kaggle/input/generated-text/data_split/val.csv')\n",
    "\n",
    "import string\n",
    "import re\n",
    "import nltk\n",
    "from nltk.corpus import stopwords\n",
    "Stopwords = set(stopwords.words('english'))\n",
    "def preprocess_text(text):\n",
    "    text = str(text).lower()\n",
    "    text = re.sub('[^a-zA-Z0-9]',' ',text)\n",
    "    text = re.sub('\\s+',' ',text)\n",
    "    \n",
    "    new_text =[]\n",
    "    for word in text.split():\n",
    "        if word not in Stopwords:\n",
    "            new_text.append(word)\n",
    "    \n",
    "    ps = nltk.stem.porter.PorterStemmer()\n",
    "    new_text = [ps.stem(word) for word in new_text]\n",
    "    #lem = nltk.stem.wordnet.WordNetLemmatizer()\n",
    "    #new_text = [lem.lemmatize(word) for word in new_text]\n",
    "    \n",
    "    text =\" \".join(new_text)\n",
    "    return(text)\n",
    "\n",
    "train['clean_text'] = train['text'].apply(lambda x: preprocess_text(x))\t\n",
    "val['clean_text'] = val['text'].apply(lambda x: preprocess_text(x))\t\n",
    "test['clean_text'] = test['text'].apply(lambda x: preprocess_text(x))\n"
   ]
  },
  {
   "cell_type": "code",
   "execution_count": 3,
   "id": "de760aff",
   "metadata": {
    "execution": {
     "iopub.execute_input": "2024-08-21T02:45:25.951649Z",
     "iopub.status.busy": "2024-08-21T02:45:25.951214Z",
     "iopub.status.idle": "2024-08-21T02:45:25.993988Z",
     "shell.execute_reply": "2024-08-21T02:45:25.992887Z"
    },
    "papermill": {
     "duration": 0.051809,
     "end_time": "2024-08-21T02:45:25.997082",
     "exception": false,
     "start_time": "2024-08-21T02:45:25.945273",
     "status": "completed"
    },
    "tags": []
   },
   "outputs": [],
   "source": [
    "# x = dfe[['clean_text']]\n",
    "# y = dfe[['generated']]\n",
    "#x_train, x_test, y_train, y_test = train_test_split(x, y, test_size=0.2, random_state=42, stratify=dfe['generated'])\n",
    "x_train = train[['clean_text']]\n",
    "x_val = val[['clean_text']]\n",
    "x_test =  test[['clean_text']]\n",
    "y_train = train[['generated']]\n",
    "y_val = val[['generated']]\n",
    "y_test = test[['generated']]\n",
    "df = pd.concat([x_train['clean_text'],x_val['clean_text'], x_test['clean_text'],test['clean_text']] ,axis=0)"
   ]
  },
  {
   "cell_type": "code",
   "execution_count": 4,
   "id": "f651683e",
   "metadata": {
    "execution": {
     "iopub.execute_input": "2024-08-21T02:45:26.009023Z",
     "iopub.status.busy": "2024-08-21T02:45:26.008089Z",
     "iopub.status.idle": "2024-08-21T02:49:46.215673Z",
     "shell.execute_reply": "2024-08-21T02:49:46.214284Z"
    },
    "papermill": {
     "duration": 260.216203,
     "end_time": "2024-08-21T02:49:46.218543",
     "exception": false,
     "start_time": "2024-08-21T02:45:26.002340",
     "status": "completed"
    },
    "tags": []
   },
   "outputs": [],
   "source": [
    "#vectorizer = TfidfVectorizer(ngram_range=(1, 3), max_features=50000, min_df=0.1, max_df=0.9, sublinear_tf=True)\n",
    "vectorizer = TfidfVectorizer(ngram_range=(1, 3), max_features=50000, sublinear_tf=True)\n",
    "X = vectorizer.fit_transform(df)\n",
    "\n",
    "# vectorizer = cuTfidfVectorizer(ngram_range=(1, 3), sublinear_tf=True)\n",
    "# X = vectorizer.fit_transform(df)"
   ]
  },
  {
   "cell_type": "code",
   "execution_count": 5,
   "id": "e1edf7bc",
   "metadata": {
    "execution": {
     "iopub.execute_input": "2024-08-21T02:49:46.229209Z",
     "iopub.status.busy": "2024-08-21T02:49:46.228793Z",
     "iopub.status.idle": "2024-08-21T02:49:46.233916Z",
     "shell.execute_reply": "2024-08-21T02:49:46.232812Z"
    },
    "papermill": {
     "duration": 0.013052,
     "end_time": "2024-08-21T02:49:46.236215",
     "exception": false,
     "start_time": "2024-08-21T02:49:46.223163",
     "status": "completed"
    },
    "tags": []
   },
   "outputs": [],
   "source": [
    "# lr_model = LogisticRegression(solver=\"liblinear\")\n",
    "# sgd_model = SGDClassifier(max_iter=1000, tol=1e-3, loss=\"modified_huber\")\n",
    "# nb_model = MultinomialNB()\n",
    "# xgb_model = XGBClassifier()\n",
    "\n",
    "# # Create the ensemble model\n",
    "# ensemble = VotingClassifier(estimators=[('lr', lr_model),('sgd', sgd_model),('nb',nb_model),('xgb',xgb_model)], voting='soft')\n",
    "\n",
    "# # lr_model = cuLogisticRegression()\n",
    "# # sgd_model = cuSGDClassifier()\n",
    "# # nb_model = cuMultinomialNB()\n",
    "# # xgb_model = xgb.XGBClassifier(tree_method='gpu_hist', gpu_id=0)\n",
    "\n",
    "# # # Create the ensemble model\n",
    "# # ensemble = VotingClassifier(estimators=[\n",
    "# #     ('lr', lr_model),\n",
    "# #     ('sgd', sgd_model),\n",
    "# #     ('nb', nb_model),\n",
    "# #     ('xgb', xgb_model)\n",
    "# # ], voting='soft')"
   ]
  },
  {
   "cell_type": "code",
   "execution_count": 6,
   "id": "bea19b12",
   "metadata": {
    "execution": {
     "iopub.execute_input": "2024-08-21T02:49:46.246764Z",
     "iopub.status.busy": "2024-08-21T02:49:46.246408Z",
     "iopub.status.idle": "2024-08-21T02:49:46.251190Z",
     "shell.execute_reply": "2024-08-21T02:49:46.250080Z"
    },
    "papermill": {
     "duration": 0.012905,
     "end_time": "2024-08-21T02:49:46.253664",
     "exception": false,
     "start_time": "2024-08-21T02:49:46.240759",
     "status": "completed"
    },
    "tags": []
   },
   "outputs": [],
   "source": [
    "# ensemble.fit(X[:x_train.shape[0]], y_train.generated)"
   ]
  },
  {
   "cell_type": "code",
   "execution_count": 7,
   "id": "7d5d65bf",
   "metadata": {
    "execution": {
     "iopub.execute_input": "2024-08-21T02:49:46.264335Z",
     "iopub.status.busy": "2024-08-21T02:49:46.263892Z",
     "iopub.status.idle": "2024-08-21T02:49:46.268652Z",
     "shell.execute_reply": "2024-08-21T02:49:46.267503Z"
    },
    "papermill": {
     "duration": 0.013009,
     "end_time": "2024-08-21T02:49:46.271213",
     "exception": false,
     "start_time": "2024-08-21T02:49:46.258204",
     "status": "completed"
    },
    "tags": []
   },
   "outputs": [],
   "source": [
    "# # Predictions on the validation set\n",
    "# y_val_pred = ensemble.predict(X[x_train.shape[0]:x_train.shape[0] + x_val.shape[0]])\n",
    "\n",
    "# # Predictions on the test set\n",
    "# y_test_pred = ensemble.predict(X[x_train.shape[0] + x_val.shape[0]:x_train.shape[0] + x_val.shape[0]+ x_test.shape[0]])"
   ]
  },
  {
   "cell_type": "code",
   "execution_count": 8,
   "id": "5909e18e",
   "metadata": {
    "execution": {
     "iopub.execute_input": "2024-08-21T02:49:46.281820Z",
     "iopub.status.busy": "2024-08-21T02:49:46.281419Z",
     "iopub.status.idle": "2024-08-21T02:49:46.286205Z",
     "shell.execute_reply": "2024-08-21T02:49:46.285061Z"
    },
    "papermill": {
     "duration": 0.012893,
     "end_time": "2024-08-21T02:49:46.288525",
     "exception": false,
     "start_time": "2024-08-21T02:49:46.275632",
     "status": "completed"
    },
    "tags": []
   },
   "outputs": [],
   "source": [
    "# y_val_pred = ensemble.estimators_[3].predict(X[x_train.shape[0]:x_train.shape[0] + x_val.shape[0]])\n",
    "# y_test_pred = ensemble.estimators_[3].predict(X[x_train.shape[0] + x_val.shape[0]:x_train.shape[0] + x_val.shape[0]+ x_test.shape[0]])"
   ]
  },
  {
   "cell_type": "code",
   "execution_count": 9,
   "id": "4cbd8fe9",
   "metadata": {
    "execution": {
     "iopub.execute_input": "2024-08-21T02:49:46.298993Z",
     "iopub.status.busy": "2024-08-21T02:49:46.298606Z",
     "iopub.status.idle": "2024-08-21T02:50:07.862704Z",
     "shell.execute_reply": "2024-08-21T02:50:07.861413Z"
    },
    "papermill": {
     "duration": 21.572497,
     "end_time": "2024-08-21T02:50:07.865421",
     "exception": false,
     "start_time": "2024-08-21T02:49:46.292924",
     "status": "completed"
    },
    "tags": []
   },
   "outputs": [
    {
     "name": "stdout",
     "output_type": "stream",
     "text": [
      "Validation Accuracy: 0.8652580971659919\n",
      "Validation Precision: 0.8778195488721805\n",
      "Validation Recall: 0.9585385878489326\n",
      "Validation F1-Score: 0.9164050235478806\n",
      "Test Accuracy: 0.8700189753320683\n",
      "Test Precision: 0.8781182111019552\n",
      "Test Recall: 0.9647736625514404\n",
      "Test F1-Score: 0.9194086042589905\n",
      "Test Confusion Matrix:\n",
      "[[ 2033  1627]\n",
      " [  428 11722]]\n"
     ]
    }
   ],
   "source": [
    "lr_model = LogisticRegression(solver=\"liblinear\")\n",
    "lr_model.fit(X[:x_train.shape[0]], y_train.generated)\n",
    "y_val_pred_lr = lr_model.predict(X[x_train.shape[0]:x_train.shape[0] + x_val.shape[0]])\n",
    "y_test_pred_lr = lr_model.predict(X[x_train.shape[0] + x_val.shape[0]:x_train.shape[0] + x_val.shape[0]+ x_test.shape[0]])\n",
    "\n",
    "val_accuracy_lr = accuracy_score(y_val['generated'], y_val_pred_lr)\n",
    "val_precision_lr = precision_score(y_val['generated'], y_val_pred_lr)\n",
    "val_recall_lr = recall_score(y_val['generated'], y_val_pred_lr)\n",
    "val_f1_lr = f1_score(y_val['generated'], y_val_pred_lr)\n",
    "\n",
    "test_accuracy_lr = accuracy_score(y_test['generated'], y_test_pred_lr)\n",
    "test_precision_lr = precision_score(y_test['generated'], y_test_pred_lr)\n",
    "test_recall_lr = recall_score(y_test['generated'], y_test_pred_lr)\n",
    "test_f1_lr = f1_score(y_test['generated'], y_test_pred_lr)\n",
    "\n",
    "print(f'Validation Accuracy: {val_accuracy_lr}')\n",
    "print(f'Validation Precision: {val_precision_lr}')\n",
    "print(f'Validation Recall: {val_recall_lr}')\n",
    "print(f'Validation F1-Score: {val_f1_lr}')\n",
    "\n",
    "\n",
    "print(f'Test Accuracy: {test_accuracy_lr}')\n",
    "print(f'Test Precision: {test_precision_lr}')\n",
    "print(f'Test Recall: {test_recall_lr}')\n",
    "print(f'Test F1-Score: {test_f1_lr}')\n",
    "print(\"Test Confusion Matrix:\")\n",
    "print(confusion_matrix(y_test['generated'], y_test_pred_lr))\n"
   ]
  },
  {
   "cell_type": "code",
   "execution_count": 10,
   "id": "d51c1515",
   "metadata": {
    "execution": {
     "iopub.execute_input": "2024-08-21T02:50:07.877063Z",
     "iopub.status.busy": "2024-08-21T02:50:07.876025Z",
     "iopub.status.idle": "2024-08-21T02:50:10.542350Z",
     "shell.execute_reply": "2024-08-21T02:50:10.540961Z"
    },
    "papermill": {
     "duration": 2.675079,
     "end_time": "2024-08-21T02:50:10.545295",
     "exception": false,
     "start_time": "2024-08-21T02:50:07.870216",
     "status": "completed"
    },
    "tags": []
   },
   "outputs": [
    {
     "name": "stdout",
     "output_type": "stream",
     "text": [
      "Validation Accuracy: 0.8619053643724697\n",
      "Validation Precision: 0.8690291620524179\n",
      "Validation Recall: 0.9664203612479475\n",
      "Validation F1-Score: 0.9151409135082605\n",
      "Test Accuracy: 0.8656546489563567\n",
      "Test Precision: 0.8698539176626826\n",
      "Test Recall: 0.9703703703703703\n",
      "Test F1-Score: 0.9173669467787113\n",
      "Test Confusion Matrix:\n",
      "[[ 1896  1764]\n",
      " [  360 11790]]\n"
     ]
    }
   ],
   "source": [
    "sgd_model = SGDClassifier(max_iter=1000, tol=1e-3, loss=\"modified_huber\")\n",
    "sgd_model.fit(X[:x_train.shape[0]], y_train.generated)\n",
    "y_val_pred_sgd = sgd_model.predict(X[x_train.shape[0]:x_train.shape[0] + x_val.shape[0]])\n",
    "y_test_pred_sgd = sgd_model.predict(X[x_train.shape[0] + x_val.shape[0]:x_train.shape[0] + x_val.shape[0]+ x_test.shape[0]])\n",
    "\n",
    "val_accuracy_sgd = accuracy_score(y_val['generated'], y_val_pred_sgd)\n",
    "val_precision_sgd = precision_score(y_val['generated'], y_val_pred_sgd)\n",
    "val_recall_sgd = recall_score(y_val['generated'], y_val_pred_sgd)\n",
    "val_f1_sgd = f1_score(y_val['generated'], y_val_pred_sgd)\n",
    "\n",
    "test_accuracy_sgd = accuracy_score(y_test['generated'], y_test_pred_sgd)\n",
    "test_precision_sgd = precision_score(y_test['generated'], y_test_pred_sgd)\n",
    "test_recall_sgd = recall_score(y_test['generated'], y_test_pred_sgd)\n",
    "test_f1_sgd = f1_score(y_test['generated'], y_test_pred_sgd)\n",
    "\n",
    "print(f'Validation Accuracy: {val_accuracy_sgd}')\n",
    "print(f'Validation Precision: {val_precision_sgd}')\n",
    "print(f'Validation Recall: {val_recall_sgd}')\n",
    "print(f'Validation F1-Score: {val_f1_sgd}')\n",
    "\n",
    "print(f'Test Accuracy: {test_accuracy_sgd}')\n",
    "print(f'Test Precision: {test_precision_sgd}')\n",
    "print(f'Test Recall: {test_recall_sgd}')\n",
    "print(f'Test F1-Score: {test_f1_sgd}')\n",
    "print(\"Test Confusion Matrix:\")\n",
    "print(confusion_matrix(y_test['generated'], y_test_pred_sgd))\n"
   ]
  },
  {
   "cell_type": "code",
   "execution_count": 11,
   "id": "dfff02d7",
   "metadata": {
    "execution": {
     "iopub.execute_input": "2024-08-21T02:50:10.557413Z",
     "iopub.status.busy": "2024-08-21T02:50:10.556574Z",
     "iopub.status.idle": "2024-08-21T02:50:11.637785Z",
     "shell.execute_reply": "2024-08-21T02:50:11.636422Z"
    },
    "papermill": {
     "duration": 1.089777,
     "end_time": "2024-08-21T02:50:11.640406",
     "exception": false,
     "start_time": "2024-08-21T02:50:10.550629",
     "status": "completed"
    },
    "tags": []
   },
   "outputs": [
    {
     "name": "stdout",
     "output_type": "stream",
     "text": [
      "Validation Accuracy: 0.7782135627530364\n",
      "Validation Precision: 0.8672311600338696\n",
      "Validation Recall: 0.8408866995073891\n",
      "Validation F1-Score: 0.8538557732388495\n",
      "Test Accuracy: 0.7797596457938014\n",
      "Test Precision: 0.869669054930058\n",
      "Test Recall: 0.8391769547325103\n",
      "Test F1-Score: 0.8541509592024796\n",
      "Test Confusion Matrix:\n",
      "[[ 2132  1528]\n",
      " [ 1954 10196]]\n"
     ]
    }
   ],
   "source": [
    "nb_model = MultinomialNB()\n",
    "nb_model.fit(X[:x_train.shape[0]], y_train.generated)\n",
    "y_val_pred_nb = nb_model.predict(X[x_train.shape[0]:x_train.shape[0] + x_val.shape[0]])\n",
    "y_test_pred_nb = nb_model.predict(X[x_train.shape[0] + x_val.shape[0]:x_train.shape[0] + x_val.shape[0]+ x_test.shape[0]])\n",
    "\n",
    "val_accuracy_nb = accuracy_score(y_val['generated'], y_val_pred_nb)\n",
    "val_precision_nb = precision_score(y_val['generated'], y_val_pred_nb)\n",
    "val_recall_nb = recall_score(y_val['generated'], y_val_pred_nb)\n",
    "val_f1_nb = f1_score(y_val['generated'], y_val_pred_nb)\n",
    "\n",
    "test_accuracy_nb = accuracy_score(y_test['generated'], y_test_pred_nb)\n",
    "test_precision_nb = precision_score(y_test['generated'], y_test_pred_nb)\n",
    "test_recall_nb = recall_score(y_test['generated'], y_test_pred_nb)\n",
    "test_f1_nb = f1_score(y_test['generated'], y_test_pred_nb)\n",
    "\n",
    "print(f'Validation Accuracy: {val_accuracy_nb}')\n",
    "print(f'Validation Precision: {val_precision_nb}')\n",
    "print(f'Validation Recall: {val_recall_nb}')\n",
    "print(f'Validation F1-Score: {val_f1_nb}')\n",
    "\n",
    "print(f'Test Accuracy: {test_accuracy_nb}')\n",
    "print(f'Test Precision: {test_precision_nb}')\n",
    "print(f'Test Recall: {test_recall_nb}')\n",
    "print(f'Test F1-Score: {test_f1_nb}')\n",
    "print(\"Test Confusion Matrix:\")\n",
    "print(confusion_matrix(y_test['generated'], y_test_pred_nb))"
   ]
  },
  {
   "cell_type": "code",
   "execution_count": 12,
   "id": "9d0a2dd6",
   "metadata": {
    "execution": {
     "iopub.execute_input": "2024-08-21T02:50:11.652697Z",
     "iopub.status.busy": "2024-08-21T02:50:11.651677Z",
     "iopub.status.idle": "2024-08-21T02:58:14.528544Z",
     "shell.execute_reply": "2024-08-21T02:58:14.527222Z"
    },
    "papermill": {
     "duration": 482.89089,
     "end_time": "2024-08-21T02:58:14.536346",
     "exception": false,
     "start_time": "2024-08-21T02:50:11.645456",
     "status": "completed"
    },
    "tags": []
   },
   "outputs": [
    {
     "name": "stdout",
     "output_type": "stream",
     "text": [
      "Validation Accuracy: 0.8421052631578947\n",
      "Validation Precision: 0.8495524112041583\n",
      "Validation Recall: 0.9661740558292282\n",
      "Validation F1-Score: 0.9041180086047942\n",
      "Test Accuracy: 0.8433902593295383\n",
      "Test Precision: 0.8488892094633583\n",
      "Test Recall: 0.9686419753086419\n",
      "Test F1-Score: 0.9048204812793111\n",
      "Test Confusion Matrix:\n",
      "[[ 1565  2095]\n",
      " [  381 11769]]\n"
     ]
    }
   ],
   "source": [
    "xgb_model = XGBClassifier()\n",
    "xgb_model.fit(X[:x_train.shape[0]], y_train.generated)\n",
    "y_val_pred_xgb = xgb_model.predict(X[x_train.shape[0]:x_train.shape[0] + x_val.shape[0]])\n",
    "y_test_pred_xgb = xgb_model.predict(X[x_train.shape[0] + x_val.shape[0]:x_train.shape[0] + x_val.shape[0]+ x_test.shape[0]])\n",
    "\n",
    "val_accuracy_xgb = accuracy_score(y_val['generated'], y_val_pred_xgb)\n",
    "val_precision_xgb = precision_score(y_val['generated'], y_val_pred_xgb)\n",
    "val_recall_xgb = recall_score(y_val['generated'], y_val_pred_xgb)\n",
    "val_f1_xgb = f1_score(y_val['generated'], y_val_pred_xgb)\n",
    "\n",
    "test_accuracy_xgb = accuracy_score(y_test['generated'], y_test_pred_xgb)\n",
    "test_precision_xgb = precision_score(y_test['generated'], y_test_pred_xgb)\n",
    "test_recall_xgb = recall_score(y_test['generated'], y_test_pred_xgb)\n",
    "test_f1_xgb = f1_score(y_test['generated'], y_test_pred_xgb)\n",
    "\n",
    "print(f'Validation Accuracy: {val_accuracy_xgb}')\n",
    "print(f'Validation Precision: {val_precision_xgb}')\n",
    "print(f'Validation Recall: {val_recall_xgb}')\n",
    "print(f'Validation F1-Score: {val_f1_xgb}')\n",
    "\n",
    "print(f'Test Accuracy: {test_accuracy_xgb}')\n",
    "print(f'Test Precision: {test_precision_xgb}')\n",
    "print(f'Test Recall: {test_recall_xgb}')\n",
    "print(f'Test F1-Score: {test_f1_xgb}')\n",
    "print(\"Test Confusion Matrix:\")\n",
    "print(confusion_matrix(y_test['generated'], y_test_pred_xgb))"
   ]
  },
  {
   "cell_type": "code",
   "execution_count": 13,
   "id": "2159877c",
   "metadata": {
    "execution": {
     "iopub.execute_input": "2024-08-21T02:58:14.547833Z",
     "iopub.status.busy": "2024-08-21T02:58:14.547404Z",
     "iopub.status.idle": "2024-08-21T02:58:14.552785Z",
     "shell.execute_reply": "2024-08-21T02:58:14.551618Z"
    },
    "papermill": {
     "duration": 0.013962,
     "end_time": "2024-08-21T02:58:14.555177",
     "exception": false,
     "start_time": "2024-08-21T02:58:14.541215",
     "status": "completed"
    },
    "tags": []
   },
   "outputs": [],
   "source": [
    "# # Calculate validation accuracy\n",
    "# accuracy = accuracy_score(val_labels, val_preds)\n",
    "# conf_matrix = confusion_matrix(val_labels, val_preds)\n",
    "# classification_rep = classification_report(val_labels, val_preds)\n",
    "# print(f'Accuracy: {accuracy}')\n",
    "# print(f'Confusion Matrix:\\n{conf_matrix}')\n",
    "# print(f'Classification Report:\\n{classification_rep}')"
   ]
  },
  {
   "cell_type": "code",
   "execution_count": 14,
   "id": "c172cec6",
   "metadata": {
    "execution": {
     "iopub.execute_input": "2024-08-21T02:58:14.567142Z",
     "iopub.status.busy": "2024-08-21T02:58:14.566623Z",
     "iopub.status.idle": "2024-08-21T02:58:14.573112Z",
     "shell.execute_reply": "2024-08-21T02:58:14.571884Z"
    },
    "papermill": {
     "duration": 0.015509,
     "end_time": "2024-08-21T02:58:14.575686",
     "exception": false,
     "start_time": "2024-08-21T02:58:14.560177",
     "status": "completed"
    },
    "tags": []
   },
   "outputs": [],
   "source": [
    "# # Accuracy\n",
    "# val_accuracy = accuracy_score(Y_val['generated'], y_val_pred)\n",
    "# print(f'Validation Accuracy: {val_accuracy}')\n",
    "\n",
    "# # Precision, Recall, F1-Score\n",
    "# val_precision = precision_score(Y_val['generated'], y_val_pred, average='weighted')\n",
    "# val_recall = recall_score(Y_val['generated'], y_val_pred, average='weighted')\n",
    "# val_f1 = f1_score(Y_val['generated'], y_val_pred, average='weighted')\n",
    "\n",
    "# print(f'Validation Precision: {val_precision}')\n",
    "# print(f'Validation Recall: {val_recall}')\n",
    "# print(f'Validation F1-Score: {val_f1}')\n",
    "\n",
    "# # Confusion Matrix and Classification Report\n",
    "# print(\"Validation Confusion Matrix:\")\n",
    "# print(confusion_matrix(Y_val['generated'], y_val_pred))\n",
    "\n",
    "# print(\"\\nValidation Classification Report:\")\n",
    "# print(classification_report(Y_val['generated'], y_val_pred))\n"
   ]
  },
  {
   "cell_type": "code",
   "execution_count": 15,
   "id": "1e0be930",
   "metadata": {
    "execution": {
     "iopub.execute_input": "2024-08-21T02:58:14.587542Z",
     "iopub.status.busy": "2024-08-21T02:58:14.587053Z",
     "iopub.status.idle": "2024-08-21T02:58:14.593383Z",
     "shell.execute_reply": "2024-08-21T02:58:14.592208Z"
    },
    "papermill": {
     "duration": 0.015665,
     "end_time": "2024-08-21T02:58:14.596264",
     "exception": false,
     "start_time": "2024-08-21T02:58:14.580599",
     "status": "completed"
    },
    "tags": []
   },
   "outputs": [],
   "source": [
    "# # Accuracy\n",
    "# test_accuracy = accuracy_score(y_test['generated'], y_test_pred)\n",
    "# print(f'Test Accuracy: {test_accuracy}')\n",
    "\n",
    "# # Precision, Recall, F1-Score\n",
    "# test_precision = precision_score(y_test['generated'], y_test_pred, average='weighted')\n",
    "# test_recall = recall_score(y_test['generated'], y_test_pred, average='weighted')\n",
    "# test_f1 = f1_score(y_test['generated'], y_test_pred, average='weighted')\n",
    "\n",
    "# print(f'Test Precision: {test_precision}')\n",
    "# print(f'Test Recall: {test_recall}')\n",
    "# print(f'Test F1-Score: {test_f1}')\n",
    "\n",
    "# # Confusion Matrix and Classification Report\n",
    "# print(\"Test Confusion Matrix:\")\n",
    "# print(confusion_matrix(y_test['generated'], y_test_pred))\n",
    "\n",
    "# print(\"\\nTest Classification Report:\")\n",
    "# print(classification_report(y_test['generated'], y_test_pred))"
   ]
  }
 ],
 "metadata": {
  "kaggle": {
   "accelerator": "none",
   "dataSources": [
    {
     "databundleVersionId": 7516023,
     "sourceId": 61542,
     "sourceType": "competition"
    },
    {
     "datasetId": 5565396,
     "sourceId": 9204661,
     "sourceType": "datasetVersion"
    }
   ],
   "dockerImageVersionId": 30626,
   "isGpuEnabled": false,
   "isInternetEnabled": true,
   "language": "python",
   "sourceType": "notebook"
  },
  "kernelspec": {
   "display_name": "Python 3",
   "language": "python",
   "name": "python3"
  },
  "language_info": {
   "codemirror_mode": {
    "name": "ipython",
    "version": 3
   },
   "file_extension": ".py",
   "mimetype": "text/x-python",
   "name": "python",
   "nbconvert_exporter": "python",
   "pygments_lexer": "ipython3",
   "version": "3.10.12"
  },
  "papermill": {
   "default_parameters": {},
   "duration": 1699.922021,
   "end_time": "2024-08-21T02:58:17.529560",
   "environment_variables": {},
   "exception": null,
   "input_path": "__notebook__.ipynb",
   "output_path": "__notebook__.ipynb",
   "parameters": {},
   "start_time": "2024-08-21T02:29:57.607539",
   "version": "2.4.0"
  }
 },
 "nbformat": 4,
 "nbformat_minor": 5
}
