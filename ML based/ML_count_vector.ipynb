{
  "cells": [
    {
      "cell_type": "markdown",
      "metadata": {
        "id": "jOCF9tKlIspw"
      },
      "source": [
        "##1.Naive Bayes Classifier"
      ]
    },
    {
      "cell_type": "code",
      "execution_count": 3,
      "metadata": {
        "id": "PmuEZmB47rmN"
      },
      "outputs": [],
      "source": [
        "# Tập dữ liệu ví dụ\n",
        "\n",
        "train_x = [\n",
        "           'just plain boring',\n",
        "           'entirely predictable and lacks energy',\n",
        "           'no surprises and very few laughs',\n",
        "           'very powerful',\n",
        "           'the most fun film of the summer'\n",
        "]\n",
        "train_y = [0, 0, 0, 1, 1]"
      ]
    },
    {
      "cell_type": "markdown",
      "metadata": {
        "id": "HZp30Q5ZJBSr"
      },
      "source": [
        "###1.1. Tiền xử lý dữ liệu cơ bản"
      ]
    },
    {
      "cell_type": "code",
      "execution_count": 4,
      "metadata": {
        "colab": {
          "base_uri": "https://localhost:8080/"
        },
        "id": "G4_6pcOfI_TN",
        "outputId": "c9645ad0-e757-49b0-9ed1-278014f0606b"
      },
      "outputs": [
        {
          "data": {
            "text/plain": [
              "['just', 'plain', 'boring']"
            ]
          },
          "execution_count": 4,
          "metadata": {},
          "output_type": "execute_result"
        }
      ],
      "source": [
        "def basic_preprocess(text):\n",
        "    \"\"\" Tiền xử lý và tách các câu\n",
        "    Args:\n",
        "        text: câu đầu vào. \n",
        "        VD: \"Tôi đi học\"\n",
        "    Output:\n",
        "        text_clean: danh sách các từ (token) sau khi chuyển sang chữ thường và\n",
        "            được phân tách bởi khoảng trắng\n",
        "    \"\"\"\n",
        "    text_clean = text.lower()\n",
        "    return text_clean.split()\n",
        "\n",
        "basic_preprocess(train_x[0])"
      ]
    },
    {
      "cell_type": "markdown",
      "metadata": {
        "id": "JoUOaYc3KFg4"
      },
      "source": [
        "###1.2.Xây dựng bộ từ điển"
      ]
    },
    {
      "cell_type": "code",
      "execution_count": 5,
      "metadata": {
        "id": "I7JXmmbjKDp1"
      },
      "outputs": [],
      "source": [
        "# Ex 1\n",
        "import tqdm\n",
        "def count_freq_words(corpus, labels):\n",
        "    \"\"\" Xây dựng bộ từ điển tần suất xuất hiện của các từ\n",
        "    Args:\n",
        "        corpus: tập danh sách các câu\n",
        "        labels: tập nhãn tương ứng với các câu trong corpus (0 hoặc 1)\n",
        "    Output:\n",
        "        model: bộ từ điển ánh xạ mỗi từ và tần suất xuất hiện của từ đó trong corpus\n",
        "            key: (word, label)\n",
        "            value: frequency\n",
        "            VD: {('boring', 0): 2} => từ boring xuất hiện 2 lần trong các sample thuộc class 0\n",
        "    \"\"\"\n",
        "    model = {}\n",
        "    for label, sentence in tqdm.tqdm(zip(labels, corpus)):\n",
        "        for word in basic_preprocess(sentence):\n",
        "            # Định nghĩa key của model là tuple (word, label)\n",
        "            pair = (word, label)\n",
        "            # Nếu key đã tồn tại trong model thì tăng value lên 1\n",
        "            if pair in model:\n",
        "                model[pair] += 1\n",
        "            # Nếu key chưa tồn tại trong model thì bổ sung key vào model với value =1\n",
        "            else:\n",
        "                model[pair] = 1\n",
        "    return model"
      ]
    },
    {
      "cell_type": "code",
      "execution_count": 6,
      "metadata": {
        "colab": {
          "base_uri": "https://localhost:8080/"
        },
        "id": "wdDMOM-9MURU",
        "outputId": "b97856c3-2ee9-4737-e9b0-ae2718fb80e4"
      },
      "outputs": [
        {
          "name": "stderr",
          "output_type": "stream",
          "text": [
            "5it [00:00, 4958.98it/s]\n"
          ]
        },
        {
          "data": {
            "text/plain": [
              "{('just', 0): 1,\n",
              " ('plain', 0): 1,\n",
              " ('boring', 0): 1,\n",
              " ('entirely', 0): 1,\n",
              " ('predictable', 0): 1,\n",
              " ('and', 0): 2,\n",
              " ('lacks', 0): 1,\n",
              " ('energy', 0): 1,\n",
              " ('no', 0): 1,\n",
              " ('surprises', 0): 1,\n",
              " ('very', 0): 1,\n",
              " ('few', 0): 1,\n",
              " ('laughs', 0): 1,\n",
              " ('very', 1): 1,\n",
              " ('powerful', 1): 1,\n",
              " ('the', 1): 2,\n",
              " ('most', 1): 1,\n",
              " ('fun', 1): 1,\n",
              " ('film', 1): 1,\n",
              " ('of', 1): 1,\n",
              " ('summer', 1): 1}"
            ]
          },
          "execution_count": 6,
          "metadata": {},
          "output_type": "execute_result"
        }
      ],
      "source": [
        "#Kết quả mong đợi\n",
        "freqs = count_freq_words(train_x, train_y)\n",
        "freqs"
      ]
    },
    {
      "cell_type": "code",
      "execution_count": 9,
      "metadata": {
        "colab": {
          "base_uri": "https://localhost:8080/"
        },
        "id": "9Gw126f5pTqJ",
        "outputId": "c0bf84fb-4f42-4785-dcdf-106995469361"
      },
      "outputs": [
        {
          "data": {
            "text/plain": [
              "1"
            ]
          },
          "execution_count": 9,
          "metadata": {},
          "output_type": "execute_result"
        }
      ],
      "source": [
        "# Hàm lấy ra tần suất xuất hiện là value trong `freq` dựa vào key (word, label)\n",
        "def lookup(freqs, word, label):\n",
        "    '''\n",
        "    Args:\n",
        "        freqs: a dictionary with the frequency of each pair\n",
        "        word: the word to look up\n",
        "        label: the label corresponding to the word\n",
        "    Output:\n",
        "        count: the number of times the word with its corresponding label appears.\n",
        "    '''\n",
        "    count = 0\n",
        "\n",
        "    pair = (word, label)\n",
        "    if pair in freqs:\n",
        "        count = freqs[pair]\n",
        "\n",
        "    return count\n",
        "\n",
        "lookup(freqs, \"very\", 0)"
      ]
    },
    {
      "cell_type": "markdown",
      "metadata": {
        "id": "AaSqdNkUNdiI"
      },
      "source": [
        "###1.3.Thuật toán phân loại Naive Bayes\n",
        "**Bước 1: Tính xác suất tiên nghiệm của các class**\n",
        "- Tính $D$, $D_{pos}$, $D_{neg}$\n",
        "    - Dựa vào `train_y` tính số lượng các sample có trong tập training: $D$, số lượng các sample là positive (nhãn 1): $D_{pos}$ và số lượng nhãn là negative (nhãn 0): $D_{neg}$\n",
        "    - Tính xác suất tiên nghiệm của class 1 là: $P(D_{pos})=D_{pos}/D$, và class 0 là: $P(D_{pos})=D_{pos}/D$"
      ]
    },
    {
      "cell_type": "code",
      "execution_count": 6,
      "metadata": {
        "id": "hu4bNZthdi9R"
      },
      "outputs": [],
      "source": [
        "def compute_prior_prob(train_y):\n",
        "    # Tính D, D_pos, D_neg dựa vào x_train\n",
        "    ### START CODE HERE\n",
        "    # Tính D, số lượng các sample trong training\n",
        "    D = len(train_y)\n",
        "\n",
        "    # Tính D_pos, số lượng các positive sample trong training\n",
        "    D_pos = len(list(filter(lambda x: x == 1, train_y)))\n",
        "\n",
        "    # Tính D_neg, số lượng các negative sample trong training\n",
        "    D_neg = len(list(filter(lambda x: x == 0, train_y)))\n",
        "\n",
        "    ### END CODE HERE\n",
        "    # Tính xác suất tiên nghiệm cho các class 0 và 1\n",
        "    p_prior = {0:(D_neg/D), 1:(D_pos/D)}\n",
        "    return p_prior"
      ]
    },
    {
      "cell_type": "code",
      "execution_count": 7,
      "metadata": {
        "colab": {
          "base_uri": "https://localhost:8080/"
        },
        "id": "Ms7OTsAEf30f",
        "outputId": "d70a53e7-3b83-435f-d679-7c3d326b98d5"
      },
      "outputs": [
        {
          "data": {
            "text/plain": [
              "{0: 0.6, 1: 0.4}"
            ]
          },
          "execution_count": 7,
          "metadata": {},
          "output_type": "execute_result"
        }
      ],
      "source": [
        "# Kết quả mong đợi\n",
        "compute_prior_prob(train_y)"
      ]
    },
    {
      "cell_type": "markdown",
      "metadata": {
        "id": "9cnux4rwgsNK"
      },
      "source": [
        "**Bước 2: Tính xác suất likelihood**\n",
        "- Tính $V$: Dựa vào `freqs` tính số lượng các từ duy nhất (uniqe words) - gọi là bộ từ điển\n",
        "\n",
        "- Tính $N_{pos}$ và $N_{neg}$: Dựa vào `freqs` dictionary, tính tổng số từ (có thể trùng lặp) xuất hiện trong positive samples $N_{pos}$ và negative samples $N_{neg}$.\n",
        "\n",
        "- Tính tần suất xuất hiện của mỗi từ trong positive samples $freq_{pos}$ và trong negative samples $freq_{neg}$\n",
        "\n",
        "- Tính xác suất likelihood mỗi từ trong bộ từ điển\n",
        "    - Sử dụng hàm `lookup` lấy ra tần suất xuất hiện của từ là positive $freq_{pos}$, và tần xuất xuất hiện của từ là negative $freq_{neg}$\n",
        "- Tính xác suất cho mỗi từ thuộc vào positive sample: $P(W_{pos})$, thuộc vào negative sample $P(W_{neg})$ sử dụng công thức 4 & 5.\n",
        "\n",
        "$$ P(W_{pos}) = \\frac{freq_{pos} + 1}{N_{pos} + V}\\tag{4} $$\n",
        "$$ P(W_{neg}) = \\frac{freq_{neg} + 1}{N_{neg} + V}\\tag{5} $$\n",
        "\n",
        "**Note:** Chúng ta lưu trữ likelihood của mỗi từ vào dictionary với key (từ): $W$, value (dictionary): ${0: P(W_{pos}), 1: P(W_{pos})}$"
      ]
    },
    {
      "cell_type": "code",
      "execution_count": 8,
      "metadata": {
        "id": "vKHq1sN-l_Oe"
      },
      "outputs": [],
      "source": [
        "# Ex 3\n",
        "def compute_likelihood(freqs):\n",
        "    # Tính xác suất likelihood của mỗi từ trong bộ từ điển\n",
        "\n",
        "    ### START CODE HERE\n",
        "    # Tính V các từ duy nhất xuất hiện trong tập train\n",
        "    vocab = set([pair[0] for pair in freqs.keys()])\n",
        "    V = len(vocab)\n",
        "\n",
        "    # Tính N_pos: số lượng từ trong positive samples và N_neg: số từ trong negative sample\n",
        "    N_pos = N_neg = 0\n",
        "    for pair in freqs.keys():\n",
        "        # Nếu như class: 1 tăng N_pos thêm số lần xuất hiện của pair trong freqs\n",
        "        if pair[1] > 0:\n",
        "            N_pos += freqs[pair]\n",
        "\n",
        "        # Nếu như class: 0 tăng N_neg thêm số lần xuất hiện của pair trong freqs\n",
        "        else:\n",
        "            N_neg += freqs[pair]\n",
        "    \n",
        "    print(f'V: {V}, N_pos: {N_pos}, N_neg: {N_neg}')\n",
        "\n",
        "    # Tính likelihood cho mỗi từ trong bộ từ điển\n",
        "    p_likelihood = {}\n",
        "    \n",
        "    for word in tqdm.tqdm(vocab):\n",
        "        # Lấy tần xuất xuất hiện của mỗi từ là positive hoặc negative\n",
        "        freq_pos = lookup(freqs, word, 1)\n",
        "        freq_neg = lookup(freqs, word, 0)\n",
        "\n",
        "        # Tính xác suất likelihood của mỗi từ với class positive và negative\n",
        "        p_w_pos = (freq_pos + 1) / (N_pos + V)\n",
        "        p_w_neg = (freq_neg + 1) / (N_neg + V)\n",
        "\n",
        "        # Lưu vào p_likelihood dictionary\n",
        "        p_likelihood[word] = {0:p_w_neg, 1:p_w_pos}\n",
        "    # END CODE HERE\n",
        "    \n",
        "    return p_likelihood"
      ]
    },
    {
      "cell_type": "code",
      "execution_count": 9,
      "metadata": {
        "colab": {
          "base_uri": "https://localhost:8080/"
        },
        "id": "0Qc94FJqog-G",
        "outputId": "1c550830-ddcd-4d97-8702-834be5829387"
      },
      "outputs": [
        {
          "name": "stdout",
          "output_type": "stream",
          "text": [
            "V: 20, N_pos: 9, N_neg: 14\n"
          ]
        },
        {
          "name": "stderr",
          "output_type": "stream",
          "text": [
            "100%|██████████| 20/20 [00:00<?, ?it/s]\n"
          ]
        },
        {
          "data": {
            "text/plain": [
              "{'energy': {0: 0.058823529411764705, 1: 0.034482758620689655},\n",
              " 'film': {0: 0.029411764705882353, 1: 0.06896551724137931},\n",
              " 'the': {0: 0.029411764705882353, 1: 0.10344827586206896},\n",
              " 'no': {0: 0.058823529411764705, 1: 0.034482758620689655},\n",
              " 'surprises': {0: 0.058823529411764705, 1: 0.034482758620689655},\n",
              " 'of': {0: 0.029411764705882353, 1: 0.06896551724137931},\n",
              " 'fun': {0: 0.029411764705882353, 1: 0.06896551724137931},\n",
              " 'entirely': {0: 0.058823529411764705, 1: 0.034482758620689655},\n",
              " 'lacks': {0: 0.058823529411764705, 1: 0.034482758620689655},\n",
              " 'boring': {0: 0.058823529411764705, 1: 0.034482758620689655},\n",
              " 'most': {0: 0.029411764705882353, 1: 0.06896551724137931},\n",
              " 'very': {0: 0.058823529411764705, 1: 0.06896551724137931},\n",
              " 'plain': {0: 0.058823529411764705, 1: 0.034482758620689655},\n",
              " 'laughs': {0: 0.058823529411764705, 1: 0.034482758620689655},\n",
              " 'summer': {0: 0.029411764705882353, 1: 0.06896551724137931},\n",
              " 'and': {0: 0.08823529411764706, 1: 0.034482758620689655},\n",
              " 'powerful': {0: 0.029411764705882353, 1: 0.06896551724137931},\n",
              " 'predictable': {0: 0.058823529411764705, 1: 0.034482758620689655},\n",
              " 'few': {0: 0.058823529411764705, 1: 0.034482758620689655},\n",
              " 'just': {0: 0.058823529411764705, 1: 0.034482758620689655}}"
            ]
          },
          "execution_count": 9,
          "metadata": {},
          "output_type": "execute_result"
        }
      ],
      "source": [
        "# Kết quả mong đợi\n",
        "compute_likelihood(freqs)"
      ]
    },
    {
      "cell_type": "markdown",
      "metadata": {
        "id": "fzzrMkeQo_wu"
      },
      "source": [
        "**Bước 3: Hoàn thiện `train` function cho Naive Bayes***"
      ]
    },
    {
      "cell_type": "code",
      "execution_count": 10,
      "metadata": {
        "id": "Q2patcrx8Gfh"
      },
      "outputs": [],
      "source": [
        "def train_naive_bayes(train_x, train_y):\n",
        "    ''' Huấn luyện thuật toán Naive Bayes\n",
        "    Args:\n",
        "        train_x: Danh sách các câu\n",
        "        train_y: Danh sách các nhãn tương ứng (0 hoặc 1)\n",
        "    Output:\n",
        "        p_prior: the prior probability (Xác suấ tiên nghiệm)\n",
        "        p_likelihood: the maximum likelihood of the probability.\n",
        "    '''\n",
        "    # Xây dựng từ điển tần suất xuất hiện của từ và nhãn tương ứng\n",
        "    freqs = count_freq_words(train_x, train_y)\n",
        "\n",
        "    # Tính xác suất tiên nghiệm\n",
        "    p_prior = compute_prior_prob(train_y)\n",
        "\n",
        "    # Tính xác suất likelihood\n",
        "    p_likelihood = compute_likelihood(freqs)\n",
        "\n",
        "    return p_prior, p_likelihood"
      ]
    },
    {
      "cell_type": "code",
      "execution_count": 11,
      "metadata": {
        "colab": {
          "base_uri": "https://localhost:8080/"
        },
        "id": "7739wp07pqa6",
        "outputId": "ac0a14c5-4440-41f3-9ad7-5f2d62ced208"
      },
      "outputs": [
        {
          "name": "stderr",
          "output_type": "stream",
          "text": [
            "5it [00:00, ?it/s]\n"
          ]
        },
        {
          "name": "stdout",
          "output_type": "stream",
          "text": [
            "V: 20, N_pos: 9, N_neg: 14\n"
          ]
        },
        {
          "name": "stderr",
          "output_type": "stream",
          "text": [
            "100%|██████████| 20/20 [00:00<?, ?it/s]\n"
          ]
        },
        {
          "data": {
            "text/plain": [
              "({0: 0.6, 1: 0.4},\n",
              " {'energy': {0: 0.058823529411764705, 1: 0.034482758620689655},\n",
              "  'film': {0: 0.029411764705882353, 1: 0.06896551724137931},\n",
              "  'the': {0: 0.029411764705882353, 1: 0.10344827586206896},\n",
              "  'no': {0: 0.058823529411764705, 1: 0.034482758620689655},\n",
              "  'surprises': {0: 0.058823529411764705, 1: 0.034482758620689655},\n",
              "  'of': {0: 0.029411764705882353, 1: 0.06896551724137931},\n",
              "  'fun': {0: 0.029411764705882353, 1: 0.06896551724137931},\n",
              "  'entirely': {0: 0.058823529411764705, 1: 0.034482758620689655},\n",
              "  'lacks': {0: 0.058823529411764705, 1: 0.034482758620689655},\n",
              "  'boring': {0: 0.058823529411764705, 1: 0.034482758620689655},\n",
              "  'most': {0: 0.029411764705882353, 1: 0.06896551724137931},\n",
              "  'very': {0: 0.058823529411764705, 1: 0.06896551724137931},\n",
              "  'plain': {0: 0.058823529411764705, 1: 0.034482758620689655},\n",
              "  'laughs': {0: 0.058823529411764705, 1: 0.034482758620689655},\n",
              "  'summer': {0: 0.029411764705882353, 1: 0.06896551724137931},\n",
              "  'and': {0: 0.08823529411764706, 1: 0.034482758620689655},\n",
              "  'powerful': {0: 0.029411764705882353, 1: 0.06896551724137931},\n",
              "  'predictable': {0: 0.058823529411764705, 1: 0.034482758620689655},\n",
              "  'few': {0: 0.058823529411764705, 1: 0.034482758620689655},\n",
              "  'just': {0: 0.058823529411764705, 1: 0.034482758620689655}})"
            ]
          },
          "execution_count": 11,
          "metadata": {},
          "output_type": "execute_result"
        }
      ],
      "source": [
        "# Kết quả đầu ra thu được khi huấn luận Naive Bayes Classifier\n",
        "p_prior, p_likelihood = train_naive_bayes(train_x, train_y)\n",
        "p_prior, p_likelihood"
      ]
    },
    {
      "cell_type": "markdown",
      "metadata": {
        "id": "EUmfzZwip2x3"
      },
      "source": [
        "###1.4.Dự đoán với các mẫu thử nghiệm\n",
        "- Tính xác suất của mỗi sample (n từ) dựa vào công thức:\n",
        "$$P(0).P(S|0) = P(0).P(w_{1}|0).P(w_{2}|0)...P(w_{n}|0)$$ "
      ]
    },
    {
      "cell_type": "code",
      "execution_count": 27,
      "metadata": {
        "id": "LddVc6Zu_Q07"
      },
      "outputs": [],
      "source": [
        "# Ex 4\n",
        "import tqdm\n",
        "def naive_bayes_predict(sentence, p_prior, p_likelihood):\n",
        "    '''\n",
        "    Args:\n",
        "        sentence: a string\n",
        "        p_prior: a dictionary of the prior probability\n",
        "        p_likelihood: a dictionary of words mapping to the probability\n",
        "    Output:\n",
        "        p: the probability of sentence with 0: negative, 1: positive\n",
        "\n",
        "    '''\n",
        "    # Tiền xử lý dữ liệu\n",
        "    words = basic_preprocess(sentence)\n",
        "\n",
        "    # Khởi tạo giá trị xác suất ban đầu là giá trị xác suất tiên nghiệm\n",
        "    p_neg = p_prior[0]\n",
        "    p_pos = p_prior[1]\n",
        "    # use tqdm to make a progress bar\n",
        "    for word in words:\n",
        "        # Kiểm tra xem word có tồn tại trong p_likelihood hay không\n",
        "        if word in p_likelihood:\n",
        "            ### START CODE HERE\n",
        "            # nhân xác suất tiên nghiệm với xác suất likelihood của các từ\n",
        "            p_neg *= p_likelihood[word][0]\n",
        "            p_pos *= p_likelihood[word][1]\n",
        "            ### END CODE HERE\n",
        "    return {'prob': {0: p_neg, 1: p_pos},\n",
        "            'label': 0 if p_neg > p_pos else 1}\n"
      ]
    },
    {
      "cell_type": "code",
      "execution_count": 13,
      "metadata": {
        "colab": {
          "base_uri": "https://localhost:8080/"
        },
        "id": "gd3X74kBAnrK",
        "outputId": "206ab62a-47e1-4f52-8150-2c987c471cbc"
      },
      "outputs": [
        {
          "name": "stderr",
          "output_type": "stream",
          "text": [
            "100%|██████████| 4/4 [00:00<?, ?it/s]\n"
          ]
        },
        {
          "data": {
            "text/plain": [
              "{'prob': {0: 6.106248727864848e-05, 1: 3.2801672885317154e-05}, 'label': 0}"
            ]
          },
          "execution_count": 13,
          "metadata": {},
          "output_type": "execute_result"
        }
      ],
      "source": [
        "# Kết quả mong đợi\n",
        "sentence = \"predictable with no fun\"\n",
        "naive_bayes_predict(sentence, p_prior, p_likelihood)"
      ]
    },
    {
      "cell_type": "markdown",
      "metadata": {
        "id": "HGFYVt0IBL_0"
      },
      "source": [
        "##2.Naive Bayes Classfier for Sentiment Analysis on Tweets\n",
        "**Phân tích cảm xúc trên tập 1Tweets1 sử dụng thuật toán phân loại Naive Bayes**"
      ]
    },
    {
      "cell_type": "code",
      "execution_count": 1,
      "metadata": {
        "colab": {
          "base_uri": "https://localhost:8080/"
        },
        "id": "KVAHBqV7But_",
        "outputId": "5f82b775-94c0-456b-f0fd-2c50204bbb02"
      },
      "outputs": [],
      "source": [
        "import re\n",
        "import string\n",
        "import pandas as pd\n",
        "import numpy as np\n",
        "from tqdm import tqdm"
      ]
    },
    {
      "cell_type": "code",
      "execution_count": 3,
      "metadata": {},
      "outputs": [],
      "source": [
        "# read pandas\n",
        "df_train = pd.read_csv(r'C:\\Users\\Asus\\Documents\\VINBIGDATA\\Machine Learning\\llm-detect-ai-generated-text\\data_split\\train.csv')\n",
        "df_test = pd.read_csv(r'C:\\Users\\Asus\\Documents\\VINBIGDATA\\Machine Learning\\llm-detect-ai-generated-text\\data_split\\test.csv')"
      ]
    },
    {
      "cell_type": "code",
      "execution_count": 4,
      "metadata": {},
      "outputs": [
        {
          "data": {
            "text/html": [
              "<div>\n",
              "<style scoped>\n",
              "    .dataframe tbody tr th:only-of-type {\n",
              "        vertical-align: middle;\n",
              "    }\n",
              "\n",
              "    .dataframe tbody tr th {\n",
              "        vertical-align: top;\n",
              "    }\n",
              "\n",
              "    .dataframe thead th {\n",
              "        text-align: right;\n",
              "    }\n",
              "</style>\n",
              "<table border=\"1\" class=\"dataframe\">\n",
              "  <thead>\n",
              "    <tr style=\"text-align: right;\">\n",
              "      <th></th>\n",
              "      <th>id</th>\n",
              "      <th>prompt_id</th>\n",
              "      <th>text</th>\n",
              "      <th>generated</th>\n",
              "    </tr>\n",
              "  </thead>\n",
              "  <tbody>\n",
              "    <tr>\n",
              "      <th>0</th>\n",
              "      <td>e_k7r6yo0s</td>\n",
              "      <td>8</td>\n",
              "      <td>For the majority of students in the US, school...</td>\n",
              "      <td>1</td>\n",
              "    </tr>\n",
              "    <tr>\n",
              "      <th>1</th>\n",
              "      <td>e_dkh6chp9</td>\n",
              "      <td>2</td>\n",
              "      <td>Have you ever thought about what was the face ...</td>\n",
              "      <td>1</td>\n",
              "    </tr>\n",
              "    <tr>\n",
              "      <th>2</th>\n",
              "      <td>e_eenni7od</td>\n",
              "      <td>2</td>\n",
              "      <td>A face has been found by NASA's Viking 1 space...</td>\n",
              "      <td>1</td>\n",
              "    </tr>\n",
              "    <tr>\n",
              "      <th>3</th>\n",
              "      <td>e_pi969vyg</td>\n",
              "      <td>3</td>\n",
              "      <td>Do you know what the Seagoing Cowboys program ...</td>\n",
              "      <td>0</td>\n",
              "    </tr>\n",
              "    <tr>\n",
              "      <th>4</th>\n",
              "      <td>e_02r7rk2e</td>\n",
              "      <td>9</td>\n",
              "      <td>Students with a grade C average should be able...</td>\n",
              "      <td>0</td>\n",
              "    </tr>\n",
              "    <tr>\n",
              "      <th>...</th>\n",
              "      <td>...</td>\n",
              "      <td>...</td>\n",
              "      <td>...</td>\n",
              "      <td>...</td>\n",
              "    </tr>\n",
              "    <tr>\n",
              "      <th>126466</th>\n",
              "      <td>e_ldxdajal</td>\n",
              "      <td>5</td>\n",
              "      <td>The use of technology to read the emotional ex...</td>\n",
              "      <td>1</td>\n",
              "    </tr>\n",
              "    <tr>\n",
              "      <th>126467</th>\n",
              "      <td>e_f2zny2as</td>\n",
              "      <td>1</td>\n",
              "      <td>Dear State Senator,\\n\\nI am writing to express...</td>\n",
              "      <td>1</td>\n",
              "    </tr>\n",
              "    <tr>\n",
              "      <th>126468</th>\n",
              "      <td>e_jhej2vio</td>\n",
              "      <td>1</td>\n",
              "      <td>PROPER_NAME\\n\\nJanuary 21, 2015\\n\\nDear Senato...</td>\n",
              "      <td>1</td>\n",
              "    </tr>\n",
              "    <tr>\n",
              "      <th>126469</th>\n",
              "      <td>e_p7uvxihr</td>\n",
              "      <td>1</td>\n",
              "      <td>Dear Senator,\\n\\nI am writing to you today to ...</td>\n",
              "      <td>1</td>\n",
              "    </tr>\n",
              "    <tr>\n",
              "      <th>126470</th>\n",
              "      <td>e_jk94fzry</td>\n",
              "      <td>1</td>\n",
              "      <td>Dear Honorable State Senator,\\n\\nI have been t...</td>\n",
              "      <td>1</td>\n",
              "    </tr>\n",
              "  </tbody>\n",
              "</table>\n",
              "<p>126471 rows × 4 columns</p>\n",
              "</div>"
            ],
            "text/plain": [
              "                id  prompt_id  \\\n",
              "0       e_k7r6yo0s          8   \n",
              "1       e_dkh6chp9          2   \n",
              "2       e_eenni7od          2   \n",
              "3       e_pi969vyg          3   \n",
              "4       e_02r7rk2e          9   \n",
              "...            ...        ...   \n",
              "126466  e_ldxdajal          5   \n",
              "126467  e_f2zny2as          1   \n",
              "126468  e_jhej2vio          1   \n",
              "126469  e_p7uvxihr          1   \n",
              "126470  e_jk94fzry          1   \n",
              "\n",
              "                                                     text  generated  \n",
              "0       For the majority of students in the US, school...          1  \n",
              "1       Have you ever thought about what was the face ...          1  \n",
              "2       A face has been found by NASA's Viking 1 space...          1  \n",
              "3       Do you know what the Seagoing Cowboys program ...          0  \n",
              "4       Students with a grade C average should be able...          0  \n",
              "...                                                   ...        ...  \n",
              "126466  The use of technology to read the emotional ex...          1  \n",
              "126467  Dear State Senator,\\n\\nI am writing to express...          1  \n",
              "126468  PROPER_NAME\\n\\nJanuary 21, 2015\\n\\nDear Senato...          1  \n",
              "126469  Dear Senator,\\n\\nI am writing to you today to ...          1  \n",
              "126470  Dear Honorable State Senator,\\n\\nI have been t...          1  \n",
              "\n",
              "[126471 rows x 4 columns]"
            ]
          },
          "execution_count": 4,
          "metadata": {},
          "output_type": "execute_result"
        }
      ],
      "source": [
        "df_train"
      ]
    },
    {
      "cell_type": "code",
      "execution_count": 6,
      "metadata": {},
      "outputs": [
        {
          "data": {
            "text/html": [
              "<div>\n",
              "<style scoped>\n",
              "    .dataframe tbody tr th:only-of-type {\n",
              "        vertical-align: middle;\n",
              "    }\n",
              "\n",
              "    .dataframe tbody tr th {\n",
              "        vertical-align: top;\n",
              "    }\n",
              "\n",
              "    .dataframe thead th {\n",
              "        text-align: right;\n",
              "    }\n",
              "</style>\n",
              "<table border=\"1\" class=\"dataframe\">\n",
              "  <thead>\n",
              "    <tr style=\"text-align: right;\">\n",
              "      <th></th>\n",
              "      <th>id</th>\n",
              "      <th>prompt_id</th>\n",
              "      <th>text</th>\n",
              "      <th>generated</th>\n",
              "    </tr>\n",
              "  </thead>\n",
              "  <tbody>\n",
              "    <tr>\n",
              "      <th>0</th>\n",
              "      <td>e_8tt3v1l1</td>\n",
              "      <td>8</td>\n",
              "      <td>Summer projects should be student basedecausei...</td>\n",
              "      <td>1</td>\n",
              "    </tr>\n",
              "    <tr>\n",
              "      <th>1</th>\n",
              "      <td>e_yu4mige3</td>\n",
              "      <td>4</td>\n",
              "      <td>My position on driverless cars is, that they w...</td>\n",
              "      <td>0</td>\n",
              "    </tr>\n",
              "    <tr>\n",
              "      <th>2</th>\n",
              "      <td>e_cmiw5i1g</td>\n",
              "      <td>5</td>\n",
              "      <td>I'm against to the use of this technology to r...</td>\n",
              "      <td>1</td>\n",
              "    </tr>\n",
              "    <tr>\n",
              "      <th>3</th>\n",
              "      <td>e_sdxf4v6a</td>\n",
              "      <td>8</td>\n",
              "      <td>Summer projects should be studentdesigned beca...</td>\n",
              "      <td>1</td>\n",
              "    </tr>\n",
              "    <tr>\n",
              "      <th>4</th>\n",
              "      <td>e_d4wsemmz</td>\n",
              "      <td>10</td>\n",
              "      <td>Mom,\" Generic_Name whimpered sadly. \"Why is it...</td>\n",
              "      <td>1</td>\n",
              "    </tr>\n",
              "    <tr>\n",
              "      <th>...</th>\n",
              "      <td>...</td>\n",
              "      <td>...</td>\n",
              "      <td>...</td>\n",
              "      <td>...</td>\n",
              "    </tr>\n",
              "    <tr>\n",
              "      <th>15805</th>\n",
              "      <td>e_s148lfph</td>\n",
              "      <td>7</td>\n",
              "      <td>Technology has had a profound impact on people...</td>\n",
              "      <td>1</td>\n",
              "    </tr>\n",
              "    <tr>\n",
              "      <th>15806</th>\n",
              "      <td>e_lhpihz0f</td>\n",
              "      <td>2</td>\n",
              "      <td>I think the face on Mars is a landform because...</td>\n",
              "      <td>0</td>\n",
              "    </tr>\n",
              "    <tr>\n",
              "      <th>15807</th>\n",
              "      <td>e_r9mtyiw1</td>\n",
              "      <td>4</td>\n",
              "      <td>2019, cars running on electricity and powered ...</td>\n",
              "      <td>1</td>\n",
              "    </tr>\n",
              "    <tr>\n",
              "      <th>15808</th>\n",
              "      <td>e_ri7bz18z</td>\n",
              "      <td>5</td>\n",
              "      <td>I feel as if the technology is too adavnced to...</td>\n",
              "      <td>1</td>\n",
              "    </tr>\n",
              "    <tr>\n",
              "      <th>15809</th>\n",
              "      <td>e_1wos4ahr</td>\n",
              "      <td>4</td>\n",
              "      <td>Driverless cars are coming, and they are going...</td>\n",
              "      <td>1</td>\n",
              "    </tr>\n",
              "  </tbody>\n",
              "</table>\n",
              "<p>15810 rows × 4 columns</p>\n",
              "</div>"
            ],
            "text/plain": [
              "               id  prompt_id  \\\n",
              "0      e_8tt3v1l1          8   \n",
              "1      e_yu4mige3          4   \n",
              "2      e_cmiw5i1g          5   \n",
              "3      e_sdxf4v6a          8   \n",
              "4      e_d4wsemmz         10   \n",
              "...           ...        ...   \n",
              "15805  e_s148lfph          7   \n",
              "15806  e_lhpihz0f          2   \n",
              "15807  e_r9mtyiw1          4   \n",
              "15808  e_ri7bz18z          5   \n",
              "15809  e_1wos4ahr          4   \n",
              "\n",
              "                                                    text  generated  \n",
              "0      Summer projects should be student basedecausei...          1  \n",
              "1      My position on driverless cars is, that they w...          0  \n",
              "2      I'm against to the use of this technology to r...          1  \n",
              "3      Summer projects should be studentdesigned beca...          1  \n",
              "4      Mom,\" Generic_Name whimpered sadly. \"Why is it...          1  \n",
              "...                                                  ...        ...  \n",
              "15805  Technology has had a profound impact on people...          1  \n",
              "15806  I think the face on Mars is a landform because...          0  \n",
              "15807  2019, cars running on electricity and powered ...          1  \n",
              "15808  I feel as if the technology is too adavnced to...          1  \n",
              "15809  Driverless cars are coming, and they are going...          1  \n",
              "\n",
              "[15810 rows x 4 columns]"
            ]
          },
          "execution_count": 6,
          "metadata": {},
          "output_type": "execute_result"
        }
      ],
      "source": [
        "df_test"
      ]
    },
    {
      "cell_type": "markdown",
      "metadata": {
        "id": "7aC78vV6Bh_x"
      },
      "source": [
        "###2.1.Dowload Dataset"
      ]
    },
    {
      "cell_type": "code",
      "execution_count": 5,
      "metadata": {},
      "outputs": [],
      "source": [
        "import string\n",
        "import re\n",
        "import nltk\n",
        "from nltk.corpus import stopwords\n",
        "Stopwords = set(stopwords.words('english'))\n",
        "def preprocess_text(text):\n",
        "    text = str(text).lower()\n",
        "    text = re.sub('[^a-zA-Z0-9]',' ',text)\n",
        "    text = re.sub('\\s+',' ',text)\n",
        "    \n",
        "    new_text =[]\n",
        "    for word in text.split():\n",
        "        if word not in Stopwords:\n",
        "            new_text.append(word)\n",
        "    \n",
        "    ps = nltk.stem.porter.PorterStemmer()\n",
        "    new_text = [ps.stem(word) for word in new_text]\n",
        "    #lem = nltk.stem.wordnet.WordNetLemmatizer()\n",
        "    #new_text = [lem.lemmatize(word) for word in new_text]\n",
        "    \n",
        "    text =\" \".join(new_text)\n",
        "    return(text)"
      ]
    },
    {
      "cell_type": "code",
      "execution_count": 7,
      "metadata": {},
      "outputs": [],
      "source": [
        "# extract text and label\n",
        "train_x = df_train['text'].apply(preprocess_text).values\n",
        "train_y = df_train['generated']\n",
        "\n",
        "test_x = df_test['text'].apply(preprocess_text).values\n",
        "test_y = df_test['generated']"
      ]
    },
    {
      "cell_type": "markdown",
      "metadata": {
        "id": "DthCUZiZEL3d"
      },
      "source": [
        "###2.3.Huấn luyện Naive Bayes Classifier trên tập `Tweets`"
      ]
    },
    {
      "cell_type": "code",
      "execution_count": 23,
      "metadata": {},
      "outputs": [],
      "source": [
        "import tqdm"
      ]
    },
    {
      "cell_type": "code",
      "execution_count": 24,
      "metadata": {
        "colab": {
          "base_uri": "https://localhost:8080/"
        },
        "id": "oFYN8KLqEQiZ",
        "outputId": "a704645e-ae54-44d1-d7aa-a5536a3ac5d7"
      },
      "outputs": [
        {
          "name": "stderr",
          "output_type": "stream",
          "text": [
            "126471it [00:20, 6305.50it/s]\n"
          ]
        },
        {
          "name": "stdout",
          "output_type": "stream",
          "text": [
            "V: 508504, N_pos: 38198059, N_neg: 12020923\n"
          ]
        },
        {
          "name": "stderr",
          "output_type": "stream",
          "text": [
            "100%|██████████| 508504/508504 [00:00<00:00, 550875.95it/s]\n"
          ]
        }
      ],
      "source": [
        "p_prior, p_likelihood = train_naive_bayes(train_x, train_y)"
      ]
    },
    {
      "cell_type": "code",
      "execution_count": 30,
      "metadata": {
        "colab": {
          "base_uri": "https://localhost:8080/"
        },
        "id": "wZ1yd1jHEXtm",
        "outputId": "efa87e79-43a9-40da-e9ee-8ef6127b659b"
      },
      "outputs": [
        {
          "data": {
            "text/plain": [
              "({0: 0.228518790869053, 1: 0.771481209130947},\n",
              " {0: 0.00019961008592013027, 1: 0.00022910843310990954})"
            ]
          },
          "execution_count": 30,
          "metadata": {},
          "output_type": "execute_result"
        }
      ],
      "source": [
        "#Kết quả ví dụ về xác suất tiên nghiệm và likelihood của từ happy\n",
        "p_prior, p_likelihood['happy']"
      ]
    },
    {
      "cell_type": "markdown",
      "metadata": {
        "id": "4idaGXBhEz6F"
      },
      "source": [
        "###2.4.Dự đoán"
      ]
    },
    {
      "cell_type": "code",
      "execution_count": 29,
      "metadata": {
        "colab": {
          "base_uri": "https://localhost:8080/"
        },
        "id": "4vEDeak7E5Kv",
        "outputId": "dfbebb0b-5457-41c8-cb8d-c04a65298025"
      },
      "outputs": [
        {
          "data": {
            "text/plain": [
              "(\"Summer projects should be student basedecauseit will encourage them to do a topic of their liking. Students should be able to choose their own summer projectsbecausethey will be more creative and enjoy it more. Students should be able to pick what they want to do for their summer projectsecauseit will lead to more creativity. Students will also be able to incorporate their summer experiences into their projects. Although, students may not want to do it over summer, they should be required to complete a summer project. Although, if they were to make their project about their summer break they would be able to tell a story and show what they learned. Although students don't want to do summer projects, they will if they can pick what they do.\",\n",
              " np.int64(1))"
            ]
          },
          "execution_count": 29,
          "metadata": {},
          "output_type": "execute_result"
        }
      ],
      "source": [
        "test_x[0], test_y[0]"
      ]
    },
    {
      "cell_type": "code",
      "execution_count": 28,
      "metadata": {
        "colab": {
          "base_uri": "https://localhost:8080/"
        },
        "id": "EBBit3jiE3iU",
        "outputId": "d2c9e759-681b-4e4b-9f4c-f78293a7642c"
      },
      "outputs": [
        {
          "data": {
            "text/plain": [
              "{'prob': {0: 0.0, 1: 0.0}, 'label': 1}"
            ]
          },
          "execution_count": 28,
          "metadata": {},
          "output_type": "execute_result"
        }
      ],
      "source": [
        "naive_bayes_predict(test_x[0], p_prior, p_likelihood)"
      ]
    },
    {
      "cell_type": "markdown",
      "metadata": {
        "id": "tt6FeZSsFxOV"
      },
      "source": [
        "###2.5.Đánh giá độ chính xác trên tập test"
      ]
    },
    {
      "cell_type": "code",
      "execution_count": 31,
      "metadata": {
        "colab": {
          "base_uri": "https://localhost:8080/"
        },
        "id": "wmihnaRYFwpD",
        "outputId": "b268a69a-c041-44a7-fa92-ff9f5fc820fb"
      },
      "outputs": [
        {
          "name": "stdout",
          "output_type": "stream",
          "text": [
            "Accuracy:  0.763124604680582\n"
          ]
        }
      ],
      "source": [
        "# acc = 0\n",
        "# for sentence, label in zip(test_x, test_y):\n",
        "\n",
        "#     # predic each sentence in test set\n",
        "#     pred = naive_bayes_predict(sentence, p_prior, p_likelihood)['label']\n",
        "\n",
        "#     # compare predict label with target label\n",
        "#     if int(pred) == int(label):\n",
        "#         acc += 1\n",
        "\n",
        "# # calculate prediction, recall, f1 score and show confusion matrix\n",
        "\n",
        "#     # \n",
        "\n",
        "# print('Accuracy: ', acc/len(test_x))"
      ]
    },
    {
      "cell_type": "code",
      "execution_count": 1,
      "metadata": {},
      "outputs": [],
      "source": [
        "import pandas as pd"
      ]
    },
    {
      "cell_type": "code",
      "execution_count": 2,
      "metadata": {},
      "outputs": [
        {
          "data": {
            "text/html": [
              "<div>\n",
              "<style scoped>\n",
              "    .dataframe tbody tr th:only-of-type {\n",
              "        vertical-align: middle;\n",
              "    }\n",
              "\n",
              "    .dataframe tbody tr th {\n",
              "        vertical-align: top;\n",
              "    }\n",
              "\n",
              "    .dataframe thead th {\n",
              "        text-align: right;\n",
              "    }\n",
              "</style>\n",
              "<table border=\"1\" class=\"dataframe\">\n",
              "  <thead>\n",
              "    <tr style=\"text-align: right;\">\n",
              "      <th></th>\n",
              "      <th>id</th>\n",
              "      <th>prompt_id</th>\n",
              "      <th>text</th>\n",
              "      <th>generated</th>\n",
              "      <th>mistral7b</th>\n",
              "    </tr>\n",
              "  </thead>\n",
              "  <tbody>\n",
              "    <tr>\n",
              "      <th>0</th>\n",
              "      <td>e_7iqq3rsd</td>\n",
              "      <td>2</td>\n",
              "      <td>recent year mani citicen state call facelik fa...</td>\n",
              "      <td>1</td>\n",
              "      <td>1</td>\n",
              "    </tr>\n",
              "    <tr>\n",
              "      <th>1</th>\n",
              "      <td>e_kl8n58ii</td>\n",
              "      <td>1</td>\n",
              "      <td>elector colleg countri way give presid peopl t...</td>\n",
              "      <td>1</td>\n",
              "      <td>1</td>\n",
              "    </tr>\n",
              "    <tr>\n",
              "      <th>2</th>\n",
              "      <td>e_z6e91t82</td>\n",
              "      <td>6</td>\n",
              "      <td>articl author believ need tri srvey venu despi...</td>\n",
              "      <td>1</td>\n",
              "      <td>1</td>\n",
              "    </tr>\n",
              "    <tr>\n",
              "      <th>3</th>\n",
              "      <td>e_y6pkid7o</td>\n",
              "      <td>1</td>\n",
              "      <td>dear state senat write express opinion topic e...</td>\n",
              "      <td>1</td>\n",
              "      <td>0</td>\n",
              "    </tr>\n",
              "    <tr>\n",
              "      <th>4</th>\n",
              "      <td>e_uh78br5j</td>\n",
              "      <td>0</td>\n",
              "      <td>mani us use car compuls sometim without think ...</td>\n",
              "      <td>1</td>\n",
              "      <td>0</td>\n",
              "    </tr>\n",
              "    <tr>\n",
              "      <th>...</th>\n",
              "      <td>...</td>\n",
              "      <td>...</td>\n",
              "      <td>...</td>\n",
              "      <td>...</td>\n",
              "      <td>...</td>\n",
              "    </tr>\n",
              "    <tr>\n",
              "      <th>15805</th>\n",
              "      <td>e_23mslsms</td>\n",
              "      <td>12</td>\n",
              "      <td>ever friend teacher person give advic know muc...</td>\n",
              "      <td>1</td>\n",
              "      <td>1</td>\n",
              "    </tr>\n",
              "    <tr>\n",
              "      <th>15806</th>\n",
              "      <td>e_919wpoz9</td>\n",
              "      <td>2</td>\n",
              "      <td>face mar ever seen landmark look like someth e...</td>\n",
              "      <td>0</td>\n",
              "      <td>0</td>\n",
              "    </tr>\n",
              "    <tr>\n",
              "      <th>15807</th>\n",
              "      <td>e_vqgunhtn</td>\n",
              "      <td>6</td>\n",
              "      <td>articl author tell us fact venu call even star...</td>\n",
              "      <td>0</td>\n",
              "      <td>1</td>\n",
              "    </tr>\n",
              "    <tr>\n",
              "      <th>15808</th>\n",
              "      <td>e_orzvfeey</td>\n",
              "      <td>2</td>\n",
              "      <td>face mar martian mesa locat cydonia subject mu...</td>\n",
              "      <td>1</td>\n",
              "      <td>0</td>\n",
              "    </tr>\n",
              "    <tr>\n",
              "      <th>15809</th>\n",
              "      <td>e_nqoi4uc5</td>\n",
              "      <td>11</td>\n",
              "      <td>dear principl think student allow cell phone f...</td>\n",
              "      <td>0</td>\n",
              "      <td>1</td>\n",
              "    </tr>\n",
              "  </tbody>\n",
              "</table>\n",
              "<p>15810 rows × 5 columns</p>\n",
              "</div>"
            ],
            "text/plain": [
              "               id  prompt_id  \\\n",
              "0      e_7iqq3rsd          2   \n",
              "1      e_kl8n58ii          1   \n",
              "2      e_z6e91t82          6   \n",
              "3      e_y6pkid7o          1   \n",
              "4      e_uh78br5j          0   \n",
              "...           ...        ...   \n",
              "15805  e_23mslsms         12   \n",
              "15806  e_919wpoz9          2   \n",
              "15807  e_vqgunhtn          6   \n",
              "15808  e_orzvfeey          2   \n",
              "15809  e_nqoi4uc5         11   \n",
              "\n",
              "                                                    text  generated  mistral7b  \n",
              "0      recent year mani citicen state call facelik fa...          1          1  \n",
              "1      elector colleg countri way give presid peopl t...          1          1  \n",
              "2      articl author believ need tri srvey venu despi...          1          1  \n",
              "3      dear state senat write express opinion topic e...          1          0  \n",
              "4      mani us use car compuls sometim without think ...          1          0  \n",
              "...                                                  ...        ...        ...  \n",
              "15805  ever friend teacher person give advic know muc...          1          1  \n",
              "15806  face mar ever seen landmark look like someth e...          0          0  \n",
              "15807  articl author tell us fact venu call even star...          0          1  \n",
              "15808  face mar martian mesa locat cydonia subject mu...          1          0  \n",
              "15809  dear principl think student allow cell phone f...          0          1  \n",
              "\n",
              "[15810 rows x 5 columns]"
            ]
          },
          "execution_count": 2,
          "metadata": {},
          "output_type": "execute_result"
        }
      ],
      "source": [
        "df = pd.read_csv(r'C:\\Users\\Asus\\Documents\\VINBIGDATA\\Machine Learning\\llm-detect-ai-generated-text\\mistral7b_all_clean.csv')\n",
        "\n",
        "df"
      ]
    },
    {
      "cell_type": "code",
      "execution_count": 33,
      "metadata": {},
      "outputs": [
        {
          "name": "stdout",
          "output_type": "stream",
          "text": [
            "Model Naive Bayes\n",
            "Accuracy:  0.763124604680582\n",
            "Confusion Matrix:\n",
            " [[    2  3658]\n",
            " [   87 12063]]\n",
            "Precision:  0.5948865299841173\n",
            "Recall:  0.763124604680582\n",
            "F1 Score:  0.6654851988241132\n"
          ]
        }
      ],
      "source": [
        "from sklearn.metrics import confusion_matrix, precision_score, recall_score, f1_score\n",
        "print(\"Model Naive Bayes\")\n",
        "# Initialize variables\n",
        "acc = 0\n",
        "y_true = []\n",
        "y_pred = []\n",
        "\n",
        "for sentence, label in zip(test_x, test_y):\n",
        "\n",
        "    # Predict each sentence in the test set\n",
        "    pred = naive_bayes_predict(sentence, p_prior, p_likelihood)['label']\n",
        "\n",
        "    # Store the true labels and predicted labels\n",
        "    y_true.append(int(label))\n",
        "    y_pred.append(int(pred))\n",
        "\n",
        "    # Compare predict label with target label\n",
        "    if int(pred) == int(label):\n",
        "        acc += 1\n",
        "\n",
        "# Calculate accuracy\n",
        "accuracy = acc / len(test_x)\n",
        "print('Accuracy: ', accuracy)\n",
        "\n",
        "# Calculate and print confusion matrix\n",
        "conf_matrix = confusion_matrix(y_true, y_pred)\n",
        "print('Confusion Matrix:\\n', conf_matrix)\n",
        "\n",
        "# Calculate precision, recall, and F1 score\n",
        "precision = precision_score(y_true, y_pred, average='weighted')\n",
        "recall = recall_score(y_true, y_pred, average='weighted')\n",
        "f1 = f1_score(y_true, y_pred, average='weighted')\n",
        "\n",
        "print('Precision: ', precision)\n",
        "print('Recall: ', recall)\n",
        "print('F1 Score: ', f1)\n"
      ]
    },
    {
      "cell_type": "code",
      "execution_count": null,
      "metadata": {},
      "outputs": [],
      "source": [
        "# use "
      ]
    },
    {
      "cell_type": "markdown",
      "metadata": {
        "id": "nQGEMKVNwlO3"
      },
      "source": [
        "##3.Logistic Regression for Sentiment Analysis on Tweets"
      ]
    },
    {
      "cell_type": "code",
      "execution_count": 9,
      "metadata": {},
      "outputs": [],
      "source": [
        "import numpy as np"
      ]
    },
    {
      "cell_type": "code",
      "execution_count": 10,
      "metadata": {},
      "outputs": [
        {
          "name": "stdout",
          "output_type": "stream",
          "text": [
            "Accuracy:  0.6659076533839342\n",
            "Confusion Matrix:\n",
            " [[2657 1003]\n",
            " [4279 7871]]\n",
            "Precision:  0.7703209557837707\n",
            "Recall:  0.6659076533839342\n",
            "F1 Score:  0.6915244104291606\n"
          ]
        }
      ],
      "source": [
        "# use library sklearn to compare with our model\n",
        "from sklearn.metrics import confusion_matrix, precision_score, recall_score, f1_score\n",
        "from sklearn.feature_extraction.text import CountVectorizer\n",
        "from sklearn.naive_bayes import MultinomialNB\n",
        "from sklearn.pipeline import make_pipeline\n",
        "\n",
        "model = make_pipeline(CountVectorizer(), MultinomialNB())\n",
        "model.fit(train_x, train_y)\n",
        "pred = model.predict(test_x)\n",
        "\n",
        "# Calculate accuracy\n",
        "accuracy = np.mean(pred == test_y)\n",
        "print('Accuracy: ', accuracy)\n",
        "# show confusion matrix\n",
        "conf_matrix = confusion_matrix(test_y, pred)\n",
        "print('Confusion Matrix:\\n', conf_matrix)\n",
        "\n",
        "# Calculate precision, recall, and F1 score\n",
        "\n",
        "precision = precision_score(test_y, pred, average='weighted')\n",
        "recall = recall_score(test_y, pred, average='weighted')\n",
        "f1 = f1_score(test_y, pred, average='weighted')\n",
        "\n",
        "print('Precision: ', precision)\n",
        "print('Recall: ', recall)\n",
        "print('F1 Score: ', f1)\n",
        "\n",
        "\n"
      ]
    },
    {
      "cell_type": "code",
      "execution_count": 7,
      "metadata": {},
      "outputs": [
        {
          "name": "stdout",
          "output_type": "stream",
          "text": [
            "Collecting xgboost\n",
            "  Downloading xgboost-2.1.1-py3-none-win_amd64.whl.metadata (2.1 kB)\n",
            "Requirement already satisfied: numpy in c:\\users\\asus\\anaconda3\\envs\\test\\lib\\site-packages (from xgboost) (2.0.1)\n",
            "Requirement already satisfied: scipy in c:\\users\\asus\\anaconda3\\envs\\test\\lib\\site-packages (from xgboost) (1.13.1)\n",
            "Downloading xgboost-2.1.1-py3-none-win_amd64.whl (124.9 MB)\n",
            "   ---------------------------------------- 0.0/124.9 MB ? eta -:--:--\n",
            "   ---------------------------------------- 0.0/124.9 MB ? eta -:--:--\n",
            "   ---------------------------------------- 0.0/124.9 MB 330.3 kB/s eta 0:06:19\n",
            "   ---------------------------------------- 0.0/124.9 MB 393.8 kB/s eta 0:05:18\n",
            "   ---------------------------------------- 0.1/124.9 MB 409.6 kB/s eta 0:05:05\n",
            "   ---------------------------------------- 0.1/124.9 MB 722.1 kB/s eta 0:02:53\n",
            "   ---------------------------------------- 0.2/124.9 MB 1.1 MB/s eta 0:01:53\n",
            "   ---------------------------------------- 0.4/124.9 MB 1.5 MB/s eta 0:01:23\n",
            "   ---------------------------------------- 0.5/124.9 MB 1.8 MB/s eta 0:01:09\n",
            "   ---------------------------------------- 0.9/124.9 MB 2.7 MB/s eta 0:00:47\n",
            "   ---------------------------------------- 1.2/124.9 MB 3.4 MB/s eta 0:00:37\n",
            "    --------------------------------------- 1.6/124.9 MB 3.9 MB/s eta 0:00:32\n",
            "    --------------------------------------- 2.1/124.9 MB 4.7 MB/s eta 0:00:27\n",
            "    --------------------------------------- 2.5/124.9 MB 5.1 MB/s eta 0:00:25\n",
            "    --------------------------------------- 3.1/124.9 MB 5.8 MB/s eta 0:00:21\n",
            "   - -------------------------------------- 3.6/124.9 MB 6.2 MB/s eta 0:00:20\n",
            "   - -------------------------------------- 4.2/124.9 MB 6.8 MB/s eta 0:00:18\n",
            "   - -------------------------------------- 4.6/124.9 MB 7.2 MB/s eta 0:00:17\n",
            "   - -------------------------------------- 5.4/124.9 MB 7.8 MB/s eta 0:00:16\n",
            "   - -------------------------------------- 5.9/124.9 MB 8.1 MB/s eta 0:00:15\n",
            "   -- ------------------------------------- 6.3/124.9 MB 8.1 MB/s eta 0:00:15\n",
            "   -- ------------------------------------- 7.2/124.9 MB 8.8 MB/s eta 0:00:14\n",
            "   -- ------------------------------------- 7.5/124.9 MB 8.9 MB/s eta 0:00:14\n",
            "   -- ------------------------------------- 8.1/124.9 MB 9.0 MB/s eta 0:00:13\n",
            "   -- ------------------------------------- 8.8/124.9 MB 9.3 MB/s eta 0:00:13\n",
            "   -- ------------------------------------- 9.1/124.9 MB 9.4 MB/s eta 0:00:13\n",
            "   --- ------------------------------------ 9.5/124.9 MB 9.5 MB/s eta 0:00:13\n",
            "   --- ------------------------------------ 10.2/124.9 MB 9.7 MB/s eta 0:00:12\n",
            "   --- ------------------------------------ 10.5/124.9 MB 11.7 MB/s eta 0:00:10\n",
            "   --- ------------------------------------ 11.1/124.9 MB 12.8 MB/s eta 0:00:09\n",
            "   --- ------------------------------------ 11.6/124.9 MB 13.1 MB/s eta 0:00:09\n",
            "   --- ------------------------------------ 12.3/124.9 MB 13.6 MB/s eta 0:00:09\n",
            "   ---- ----------------------------------- 12.7/124.9 MB 13.6 MB/s eta 0:00:09\n",
            "   ---- ----------------------------------- 13.3/124.9 MB 13.6 MB/s eta 0:00:09\n",
            "   ---- ----------------------------------- 13.8/124.9 MB 13.9 MB/s eta 0:00:08\n",
            "   ---- ----------------------------------- 14.3/124.9 MB 13.6 MB/s eta 0:00:09\n",
            "   ---- ----------------------------------- 14.6/124.9 MB 13.4 MB/s eta 0:00:09\n",
            "   ---- ----------------------------------- 15.2/124.9 MB 13.6 MB/s eta 0:00:09\n",
            "   ----- ---------------------------------- 15.8/124.9 MB 13.4 MB/s eta 0:00:09\n",
            "   ----- ---------------------------------- 16.1/124.9 MB 13.1 MB/s eta 0:00:09\n",
            "   ----- ---------------------------------- 16.7/124.9 MB 13.4 MB/s eta 0:00:09\n",
            "   ----- ---------------------------------- 17.1/124.9 MB 13.1 MB/s eta 0:00:09\n",
            "   ----- ---------------------------------- 17.1/124.9 MB 13.1 MB/s eta 0:00:09\n",
            "   ----- ---------------------------------- 17.4/124.9 MB 12.1 MB/s eta 0:00:09\n",
            "   ------ --------------------------------- 18.9/124.9 MB 13.1 MB/s eta 0:00:09\n",
            "   ------ --------------------------------- 19.6/124.9 MB 13.6 MB/s eta 0:00:08\n",
            "   ------ --------------------------------- 20.2/124.9 MB 13.4 MB/s eta 0:00:08\n",
            "   ------ --------------------------------- 20.6/124.9 MB 13.6 MB/s eta 0:00:08\n",
            "   ------ --------------------------------- 21.2/124.9 MB 13.4 MB/s eta 0:00:08\n",
            "   ------ --------------------------------- 21.6/124.9 MB 13.6 MB/s eta 0:00:08\n",
            "   ------- -------------------------------- 22.0/124.9 MB 13.4 MB/s eta 0:00:08\n",
            "   ------- -------------------------------- 22.6/124.9 MB 13.6 MB/s eta 0:00:08\n",
            "   ------- -------------------------------- 22.9/124.9 MB 13.1 MB/s eta 0:00:08\n",
            "   ------- -------------------------------- 23.4/124.9 MB 13.1 MB/s eta 0:00:08\n",
            "   ------- -------------------------------- 23.8/124.9 MB 13.1 MB/s eta 0:00:08\n",
            "   ------- -------------------------------- 24.3/124.9 MB 13.1 MB/s eta 0:00:08\n",
            "   ------- -------------------------------- 24.9/124.9 MB 13.4 MB/s eta 0:00:08\n",
            "   -------- ------------------------------- 25.3/124.9 MB 12.8 MB/s eta 0:00:08\n",
            "   -------- ------------------------------- 25.7/124.9 MB 13.1 MB/s eta 0:00:08\n",
            "   -------- ------------------------------- 26.4/124.9 MB 13.4 MB/s eta 0:00:08\n",
            "   -------- ------------------------------- 26.8/124.9 MB 13.1 MB/s eta 0:00:08\n",
            "   -------- ------------------------------- 27.3/124.9 MB 12.6 MB/s eta 0:00:08\n",
            "   -------- ------------------------------- 27.8/124.9 MB 14.2 MB/s eta 0:00:07\n",
            "   --------- ------------------------------ 28.2/124.9 MB 13.6 MB/s eta 0:00:08\n",
            "   --------- ------------------------------ 28.5/124.9 MB 13.4 MB/s eta 0:00:08\n",
            "   --------- ------------------------------ 29.1/124.9 MB 12.6 MB/s eta 0:00:08\n",
            "   --------- ------------------------------ 29.6/124.9 MB 12.8 MB/s eta 0:00:08\n",
            "   --------- ------------------------------ 30.2/124.9 MB 12.6 MB/s eta 0:00:08\n",
            "   --------- ------------------------------ 30.4/124.9 MB 12.4 MB/s eta 0:00:08\n",
            "   --------- ------------------------------ 30.9/124.9 MB 12.4 MB/s eta 0:00:08\n",
            "   ---------- ----------------------------- 31.4/124.9 MB 12.4 MB/s eta 0:00:08\n",
            "   ---------- ----------------------------- 32.1/124.9 MB 12.6 MB/s eta 0:00:08\n",
            "   ---------- ----------------------------- 32.6/124.9 MB 12.4 MB/s eta 0:00:08\n",
            "   ---------- ----------------------------- 33.4/124.9 MB 12.8 MB/s eta 0:00:08\n",
            "   ---------- ----------------------------- 34.0/124.9 MB 12.8 MB/s eta 0:00:08\n",
            "   ----------- ---------------------------- 34.5/124.9 MB 12.8 MB/s eta 0:00:08\n",
            "   ----------- ---------------------------- 35.2/124.9 MB 13.1 MB/s eta 0:00:07\n",
            "   ----------- ---------------------------- 35.3/124.9 MB 13.1 MB/s eta 0:00:07\n",
            "   ----------- ---------------------------- 35.3/124.9 MB 13.1 MB/s eta 0:00:07\n",
            "   ----------- ---------------------------- 36.8/124.9 MB 13.6 MB/s eta 0:00:07\n",
            "   ----------- ---------------------------- 37.0/124.9 MB 13.1 MB/s eta 0:00:07\n",
            "   ----------- ---------------------------- 37.3/124.9 MB 12.6 MB/s eta 0:00:07\n",
            "   ------------ --------------------------- 37.9/124.9 MB 12.8 MB/s eta 0:00:07\n",
            "   ------------ --------------------------- 38.3/124.9 MB 12.8 MB/s eta 0:00:07\n",
            "   ------------ --------------------------- 38.9/124.9 MB 12.9 MB/s eta 0:00:07\n",
            "   ------------ --------------------------- 39.2/124.9 MB 12.8 MB/s eta 0:00:07\n",
            "   ------------ --------------------------- 39.8/124.9 MB 12.6 MB/s eta 0:00:07\n",
            "   ------------ --------------------------- 40.4/124.9 MB 12.6 MB/s eta 0:00:07\n",
            "   ------------- -------------------------- 40.7/124.9 MB 12.8 MB/s eta 0:00:07\n",
            "   ------------- -------------------------- 41.2/124.9 MB 13.1 MB/s eta 0:00:07\n",
            "   ------------- -------------------------- 41.6/124.9 MB 12.6 MB/s eta 0:00:07\n",
            "   ------------- -------------------------- 42.1/124.9 MB 12.6 MB/s eta 0:00:07\n",
            "   ------------- -------------------------- 42.4/124.9 MB 12.1 MB/s eta 0:00:07\n",
            "   ------------- -------------------------- 42.4/124.9 MB 12.1 MB/s eta 0:00:07\n",
            "   ------------- -------------------------- 42.4/124.9 MB 12.1 MB/s eta 0:00:07\n",
            "   ------------- -------------------------- 43.5/124.9 MB 11.7 MB/s eta 0:00:07\n",
            "   -------------- ------------------------- 43.7/124.9 MB 11.3 MB/s eta 0:00:08\n",
            "   -------------- ------------------------- 44.1/124.9 MB 11.1 MB/s eta 0:00:08\n",
            "   -------------- ------------------------- 44.3/124.9 MB 10.9 MB/s eta 0:00:08\n",
            "   -------------- ------------------------- 44.4/124.9 MB 10.6 MB/s eta 0:00:08\n",
            "   -------------- ------------------------- 44.9/124.9 MB 10.6 MB/s eta 0:00:08\n",
            "   -------------- ------------------------- 45.1/124.9 MB 10.2 MB/s eta 0:00:08\n",
            "   -------------- ------------------------- 45.5/124.9 MB 10.1 MB/s eta 0:00:08\n",
            "   -------------- ------------------------- 45.8/124.9 MB 10.7 MB/s eta 0:00:08\n",
            "   -------------- ------------------------- 46.1/124.9 MB 10.4 MB/s eta 0:00:08\n",
            "   -------------- ------------------------- 46.3/124.9 MB 9.9 MB/s eta 0:00:08\n",
            "   -------------- ------------------------- 46.7/124.9 MB 9.5 MB/s eta 0:00:09\n",
            "   --------------- ------------------------ 47.1/124.9 MB 9.4 MB/s eta 0:00:09\n",
            "   --------------- ------------------------ 47.4/124.9 MB 9.5 MB/s eta 0:00:09\n",
            "   --------------- ------------------------ 47.9/124.9 MB 9.2 MB/s eta 0:00:09\n",
            "   --------------- ------------------------ 48.3/124.9 MB 9.4 MB/s eta 0:00:09\n",
            "   --------------- ------------------------ 48.5/124.9 MB 9.2 MB/s eta 0:00:09\n",
            "   --------------- ------------------------ 48.8/124.9 MB 9.0 MB/s eta 0:00:09\n",
            "   --------------- ------------------------ 49.0/124.9 MB 8.8 MB/s eta 0:00:09\n",
            "   --------------- ------------------------ 49.0/124.9 MB 8.8 MB/s eta 0:00:09\n",
            "   --------------- ------------------------ 49.6/124.9 MB 8.6 MB/s eta 0:00:09\n",
            "   --------------- ------------------------ 49.7/124.9 MB 8.6 MB/s eta 0:00:09\n",
            "   --------------- ------------------------ 49.7/124.9 MB 8.4 MB/s eta 0:00:09\n",
            "   --------------- ------------------------ 49.7/124.9 MB 7.9 MB/s eta 0:00:10\n",
            "   ---------------- ----------------------- 50.5/124.9 MB 7.9 MB/s eta 0:00:10\n",
            "   ---------------- ----------------------- 50.8/124.9 MB 7.9 MB/s eta 0:00:10\n",
            "   ---------------- ----------------------- 51.0/124.9 MB 8.0 MB/s eta 0:00:10\n",
            "   ---------------- ----------------------- 51.3/124.9 MB 7.8 MB/s eta 0:00:10\n",
            "   ---------------- ----------------------- 51.7/124.9 MB 7.7 MB/s eta 0:00:10\n",
            "   ---------------- ----------------------- 51.9/124.9 MB 7.6 MB/s eta 0:00:10\n",
            "   ---------------- ----------------------- 52.2/124.9 MB 7.6 MB/s eta 0:00:10\n",
            "   ---------------- ----------------------- 52.5/124.9 MB 7.4 MB/s eta 0:00:10\n",
            "   ---------------- ----------------------- 52.9/124.9 MB 7.9 MB/s eta 0:00:10\n",
            "   ----------------- ---------------------- 53.2/124.9 MB 7.6 MB/s eta 0:00:10\n",
            "   ----------------- ---------------------- 53.4/124.9 MB 7.4 MB/s eta 0:00:10\n",
            "   ----------------- ---------------------- 53.8/124.9 MB 7.4 MB/s eta 0:00:10\n",
            "   ----------------- ---------------------- 54.0/124.9 MB 7.4 MB/s eta 0:00:10\n",
            "   ----------------- ---------------------- 54.4/124.9 MB 7.4 MB/s eta 0:00:10\n",
            "   ----------------- ---------------------- 54.7/124.9 MB 7.5 MB/s eta 0:00:10\n",
            "   ----------------- ---------------------- 55.0/124.9 MB 7.4 MB/s eta 0:00:10\n",
            "   ----------------- ---------------------- 55.2/124.9 MB 7.4 MB/s eta 0:00:10\n",
            "   ----------------- ---------------------- 55.5/124.9 MB 7.5 MB/s eta 0:00:10\n",
            "   ----------------- ---------------------- 55.8/124.9 MB 7.3 MB/s eta 0:00:10\n",
            "   ----------------- ---------------------- 56.1/124.9 MB 7.4 MB/s eta 0:00:10\n",
            "   ------------------ --------------------- 56.3/124.9 MB 7.4 MB/s eta 0:00:10\n",
            "   ------------------ --------------------- 56.6/124.9 MB 7.3 MB/s eta 0:00:10\n",
            "   ------------------ --------------------- 56.8/124.9 MB 7.3 MB/s eta 0:00:10\n",
            "   ------------------ --------------------- 57.1/124.9 MB 7.3 MB/s eta 0:00:10\n",
            "   ------------------ --------------------- 57.3/124.9 MB 7.3 MB/s eta 0:00:10\n",
            "   ------------------ --------------------- 57.5/124.9 MB 7.1 MB/s eta 0:00:10\n",
            "   ------------------ --------------------- 57.9/124.9 MB 7.1 MB/s eta 0:00:10\n",
            "   ------------------ --------------------- 58.0/124.9 MB 7.0 MB/s eta 0:00:10\n",
            "   ------------------ --------------------- 58.4/124.9 MB 7.0 MB/s eta 0:00:10\n",
            "   ------------------ --------------------- 58.5/124.9 MB 6.8 MB/s eta 0:00:10\n",
            "   ------------------ --------------------- 58.9/124.9 MB 6.9 MB/s eta 0:00:10\n",
            "   ------------------- -------------------- 59.4/124.9 MB 7.2 MB/s eta 0:00:10\n",
            "   ------------------- -------------------- 59.6/124.9 MB 7.1 MB/s eta 0:00:10\n",
            "   ------------------- -------------------- 60.0/124.9 MB 7.5 MB/s eta 0:00:09\n",
            "   ------------------- -------------------- 60.3/124.9 MB 7.4 MB/s eta 0:00:09\n",
            "   ------------------- -------------------- 60.5/124.9 MB 7.4 MB/s eta 0:00:09\n",
            "   ------------------- -------------------- 60.9/124.9 MB 7.4 MB/s eta 0:00:09\n",
            "   ------------------- -------------------- 61.3/124.9 MB 7.3 MB/s eta 0:00:09\n",
            "   ------------------- -------------------- 61.5/124.9 MB 7.4 MB/s eta 0:00:09\n",
            "   ------------------- -------------------- 61.9/124.9 MB 7.4 MB/s eta 0:00:09\n",
            "   ------------------- -------------------- 62.1/124.9 MB 7.4 MB/s eta 0:00:09\n",
            "   ------------------- -------------------- 62.3/124.9 MB 7.3 MB/s eta 0:00:09\n",
            "   ------------------- -------------------- 62.3/124.9 MB 7.2 MB/s eta 0:00:09\n",
            "   ------------------- -------------------- 62.3/124.9 MB 7.2 MB/s eta 0:00:09\n",
            "   ------------------- -------------------- 62.4/124.9 MB 6.8 MB/s eta 0:00:10\n",
            "   -------------------- ------------------- 63.1/124.9 MB 7.1 MB/s eta 0:00:09\n",
            "   -------------------- ------------------- 63.3/124.9 MB 7.0 MB/s eta 0:00:09\n",
            "   -------------------- ------------------- 63.4/124.9 MB 6.9 MB/s eta 0:00:09\n",
            "   -------------------- ------------------- 63.7/124.9 MB 6.9 MB/s eta 0:00:09\n",
            "   -------------------- ------------------- 63.7/124.9 MB 6.8 MB/s eta 0:00:09\n",
            "   -------------------- ------------------- 63.7/124.9 MB 6.8 MB/s eta 0:00:09\n",
            "   -------------------- ------------------- 64.0/124.9 MB 6.4 MB/s eta 0:00:10\n",
            "   -------------------- ------------------- 64.0/124.9 MB 6.4 MB/s eta 0:00:10\n",
            "   -------------------- ------------------- 64.4/124.9 MB 6.4 MB/s eta 0:00:10\n",
            "   -------------------- ------------------- 64.5/124.9 MB 6.3 MB/s eta 0:00:10\n",
            "   -------------------- ------------------- 64.7/124.9 MB 6.2 MB/s eta 0:00:10\n",
            "   -------------------- ------------------- 64.8/124.9 MB 6.2 MB/s eta 0:00:10\n",
            "   -------------------- ------------------- 65.0/124.9 MB 6.1 MB/s eta 0:00:10\n",
            "   -------------------- ------------------- 65.2/124.9 MB 6.1 MB/s eta 0:00:10\n",
            "   -------------------- ------------------- 65.3/124.9 MB 6.0 MB/s eta 0:00:11\n",
            "   -------------------- ------------------- 65.5/124.9 MB 5.9 MB/s eta 0:00:11\n",
            "   --------------------- ------------------ 65.7/124.9 MB 5.8 MB/s eta 0:00:11\n",
            "   --------------------- ------------------ 65.8/124.9 MB 5.8 MB/s eta 0:00:11\n",
            "   --------------------- ------------------ 66.0/124.9 MB 5.8 MB/s eta 0:00:11\n",
            "   --------------------- ------------------ 66.2/124.9 MB 5.7 MB/s eta 0:00:11\n",
            "   --------------------- ------------------ 66.3/124.9 MB 5.7 MB/s eta 0:00:11\n",
            "   --------------------- ------------------ 66.5/124.9 MB 5.6 MB/s eta 0:00:11\n",
            "   --------------------- ------------------ 66.7/124.9 MB 5.6 MB/s eta 0:00:11\n",
            "   --------------------- ------------------ 66.8/124.9 MB 5.6 MB/s eta 0:00:11\n",
            "   --------------------- ------------------ 67.0/124.9 MB 5.5 MB/s eta 0:00:11\n",
            "   --------------------- ------------------ 67.2/124.9 MB 5.5 MB/s eta 0:00:11\n",
            "   --------------------- ------------------ 67.3/124.9 MB 5.4 MB/s eta 0:00:11\n",
            "   --------------------- ------------------ 67.5/124.9 MB 5.4 MB/s eta 0:00:11\n",
            "   --------------------- ------------------ 67.6/124.9 MB 5.5 MB/s eta 0:00:11\n",
            "   --------------------- ------------------ 67.8/124.9 MB 5.4 MB/s eta 0:00:11\n",
            "   --------------------- ------------------ 67.9/124.9 MB 5.3 MB/s eta 0:00:11\n",
            "   --------------------- ------------------ 68.1/124.9 MB 5.3 MB/s eta 0:00:11\n",
            "   --------------------- ------------------ 68.2/124.9 MB 5.3 MB/s eta 0:00:11\n",
            "   --------------------- ------------------ 68.3/124.9 MB 5.2 MB/s eta 0:00:11\n",
            "   --------------------- ------------------ 68.5/124.9 MB 5.2 MB/s eta 0:00:11\n",
            "   --------------------- ------------------ 68.6/124.9 MB 5.1 MB/s eta 0:00:12\n",
            "   ---------------------- ----------------- 68.8/124.9 MB 5.1 MB/s eta 0:00:12\n",
            "   ---------------------- ----------------- 69.0/124.9 MB 5.0 MB/s eta 0:00:12\n",
            "   ---------------------- ----------------- 69.2/124.9 MB 5.0 MB/s eta 0:00:12\n",
            "   ---------------------- ----------------- 69.4/124.9 MB 5.0 MB/s eta 0:00:12\n",
            "   ---------------------- ----------------- 69.6/124.9 MB 4.9 MB/s eta 0:00:12\n",
            "   ---------------------- ----------------- 69.8/124.9 MB 4.9 MB/s eta 0:00:12\n",
            "   ---------------------- ----------------- 70.0/124.9 MB 4.9 MB/s eta 0:00:12\n",
            "   ---------------------- ----------------- 70.2/124.9 MB 4.8 MB/s eta 0:00:12\n",
            "   ---------------------- ----------------- 70.3/124.9 MB 4.8 MB/s eta 0:00:12\n",
            "   ---------------------- ----------------- 70.6/124.9 MB 4.7 MB/s eta 0:00:12\n",
            "   ---------------------- ----------------- 70.7/124.9 MB 4.7 MB/s eta 0:00:12\n",
            "   ---------------------- ----------------- 70.9/124.9 MB 4.7 MB/s eta 0:00:12\n",
            "   ---------------------- ----------------- 71.1/124.9 MB 4.6 MB/s eta 0:00:12\n",
            "   ---------------------- ----------------- 71.3/124.9 MB 4.6 MB/s eta 0:00:12\n",
            "   ---------------------- ----------------- 71.5/124.9 MB 4.6 MB/s eta 0:00:12\n",
            "   ---------------------- ----------------- 71.7/124.9 MB 4.5 MB/s eta 0:00:12\n",
            "   ----------------------- ---------------- 71.9/124.9 MB 4.5 MB/s eta 0:00:12\n",
            "   ----------------------- ---------------- 72.1/124.9 MB 4.5 MB/s eta 0:00:12\n",
            "   ----------------------- ---------------- 72.3/124.9 MB 4.5 MB/s eta 0:00:12\n",
            "   ----------------------- ---------------- 72.5/124.9 MB 4.5 MB/s eta 0:00:12\n",
            "   ----------------------- ---------------- 72.7/124.9 MB 4.7 MB/s eta 0:00:12\n",
            "   ----------------------- ---------------- 72.9/124.9 MB 4.6 MB/s eta 0:00:12\n",
            "   ----------------------- ---------------- 73.1/124.9 MB 4.5 MB/s eta 0:00:12\n",
            "   ----------------------- ---------------- 73.3/124.9 MB 4.5 MB/s eta 0:00:12\n",
            "   ----------------------- ---------------- 73.6/124.9 MB 4.5 MB/s eta 0:00:12\n",
            "   ----------------------- ---------------- 73.7/124.9 MB 4.5 MB/s eta 0:00:12\n",
            "   ----------------------- ---------------- 73.9/124.9 MB 4.5 MB/s eta 0:00:12\n",
            "   ----------------------- ---------------- 74.1/124.9 MB 4.7 MB/s eta 0:00:11\n",
            "   ----------------------- ---------------- 74.3/124.9 MB 4.7 MB/s eta 0:00:11\n",
            "   ----------------------- ---------------- 74.6/124.9 MB 4.6 MB/s eta 0:00:11\n",
            "   ----------------------- ---------------- 74.8/124.9 MB 4.7 MB/s eta 0:00:11\n",
            "   ------------------------ --------------- 75.0/124.9 MB 4.7 MB/s eta 0:00:11\n",
            "   ------------------------ --------------- 75.2/124.9 MB 4.8 MB/s eta 0:00:11\n",
            "   ------------------------ --------------- 75.4/124.9 MB 4.8 MB/s eta 0:00:11\n",
            "   ------------------------ --------------- 75.6/124.9 MB 4.8 MB/s eta 0:00:11\n",
            "   ------------------------ --------------- 75.9/124.9 MB 4.9 MB/s eta 0:00:11\n",
            "   ------------------------ --------------- 76.1/124.9 MB 4.9 MB/s eta 0:00:11\n",
            "   ------------------------ --------------- 76.3/124.9 MB 4.9 MB/s eta 0:00:10\n",
            "   ------------------------ --------------- 76.5/124.9 MB 4.9 MB/s eta 0:00:10\n",
            "   ------------------------ --------------- 76.7/124.9 MB 4.9 MB/s eta 0:00:10\n",
            "   ------------------------ --------------- 76.9/124.9 MB 4.9 MB/s eta 0:00:10\n",
            "   ------------------------ --------------- 77.1/124.9 MB 4.9 MB/s eta 0:00:10\n",
            "   ------------------------ --------------- 77.1/124.9 MB 4.9 MB/s eta 0:00:10\n",
            "   ------------------------ --------------- 77.4/124.9 MB 5.0 MB/s eta 0:00:10\n",
            "   ------------------------ --------------- 77.6/124.9 MB 4.9 MB/s eta 0:00:10\n",
            "   ------------------------ --------------- 77.8/124.9 MB 5.0 MB/s eta 0:00:10\n",
            "   ------------------------ --------------- 77.9/124.9 MB 4.9 MB/s eta 0:00:10\n",
            "   ------------------------- -------------- 78.1/124.9 MB 5.0 MB/s eta 0:00:10\n",
            "   ------------------------- -------------- 78.3/124.9 MB 5.0 MB/s eta 0:00:10\n",
            "   ------------------------- -------------- 78.5/124.9 MB 5.0 MB/s eta 0:00:10\n",
            "   ------------------------- -------------- 78.8/124.9 MB 5.0 MB/s eta 0:00:10\n",
            "   ------------------------- -------------- 79.0/124.9 MB 5.1 MB/s eta 0:00:10\n",
            "   ------------------------- -------------- 79.2/124.9 MB 5.1 MB/s eta 0:00:09\n",
            "   ------------------------- -------------- 79.5/124.9 MB 5.2 MB/s eta 0:00:09\n",
            "   ------------------------- -------------- 79.7/124.9 MB 5.1 MB/s eta 0:00:09\n",
            "   ------------------------- -------------- 80.0/124.9 MB 5.2 MB/s eta 0:00:09\n",
            "   ------------------------- -------------- 80.2/124.9 MB 5.2 MB/s eta 0:00:09\n",
            "   ------------------------- -------------- 80.4/124.9 MB 5.1 MB/s eta 0:00:09\n",
            "   ------------------------- -------------- 80.6/124.9 MB 5.2 MB/s eta 0:00:09\n",
            "   ------------------------- -------------- 80.8/124.9 MB 5.2 MB/s eta 0:00:09\n",
            "   ------------------------- -------------- 81.0/124.9 MB 5.2 MB/s eta 0:00:09\n",
            "   -------------------------- ------------- 81.3/124.9 MB 5.2 MB/s eta 0:00:09\n",
            "   -------------------------- ------------- 81.5/124.9 MB 5.3 MB/s eta 0:00:09\n",
            "   -------------------------- ------------- 81.7/124.9 MB 5.2 MB/s eta 0:00:09\n",
            "   -------------------------- ------------- 81.9/124.9 MB 5.3 MB/s eta 0:00:09\n",
            "   -------------------------- ------------- 82.1/124.9 MB 5.3 MB/s eta 0:00:09\n",
            "   -------------------------- ------------- 82.4/124.9 MB 5.3 MB/s eta 0:00:09\n",
            "   -------------------------- ------------- 82.6/124.9 MB 5.3 MB/s eta 0:00:09\n",
            "   -------------------------- ------------- 82.8/124.9 MB 5.3 MB/s eta 0:00:08\n",
            "   -------------------------- ------------- 82.9/124.9 MB 5.3 MB/s eta 0:00:08\n",
            "   -------------------------- ------------- 83.2/124.9 MB 5.3 MB/s eta 0:00:08\n",
            "   -------------------------- ------------- 83.4/124.9 MB 5.3 MB/s eta 0:00:08\n",
            "   -------------------------- ------------- 83.7/124.9 MB 5.3 MB/s eta 0:00:08\n",
            "   -------------------------- ------------- 83.8/124.9 MB 5.3 MB/s eta 0:00:08\n",
            "   -------------------------- ------------- 84.0/124.9 MB 5.3 MB/s eta 0:00:08\n",
            "   -------------------------- ------------- 84.2/124.9 MB 5.3 MB/s eta 0:00:08\n",
            "   --------------------------- ------------ 84.4/124.9 MB 5.3 MB/s eta 0:00:08\n",
            "   --------------------------- ------------ 84.6/124.9 MB 5.3 MB/s eta 0:00:08\n",
            "   --------------------------- ------------ 84.8/124.9 MB 5.3 MB/s eta 0:00:08\n",
            "   --------------------------- ------------ 85.1/124.9 MB 5.3 MB/s eta 0:00:08\n",
            "   --------------------------- ------------ 85.3/124.9 MB 5.3 MB/s eta 0:00:08\n",
            "   --------------------------- ------------ 85.5/124.9 MB 5.3 MB/s eta 0:00:08\n",
            "   --------------------------- ------------ 85.7/124.9 MB 5.3 MB/s eta 0:00:08\n",
            "   --------------------------- ------------ 85.9/124.9 MB 5.3 MB/s eta 0:00:08\n",
            "   --------------------------- ------------ 86.0/124.9 MB 5.2 MB/s eta 0:00:08\n",
            "   --------------------------- ------------ 86.1/124.9 MB 5.2 MB/s eta 0:00:08\n",
            "   --------------------------- ------------ 86.4/124.9 MB 5.2 MB/s eta 0:00:08\n",
            "   --------------------------- ------------ 86.6/124.9 MB 5.2 MB/s eta 0:00:08\n",
            "   --------------------------- ------------ 86.8/124.9 MB 5.2 MB/s eta 0:00:08\n",
            "   --------------------------- ------------ 87.0/124.9 MB 5.2 MB/s eta 0:00:08\n",
            "   --------------------------- ------------ 87.2/124.9 MB 5.2 MB/s eta 0:00:08\n",
            "   ---------------------------- ----------- 87.5/124.9 MB 5.2 MB/s eta 0:00:08\n",
            "   ---------------------------- ----------- 87.6/124.9 MB 5.3 MB/s eta 0:00:08\n",
            "   ---------------------------- ----------- 87.9/124.9 MB 5.3 MB/s eta 0:00:07\n",
            "   ---------------------------- ----------- 88.0/124.9 MB 5.3 MB/s eta 0:00:07\n",
            "   ---------------------------- ----------- 88.3/124.9 MB 5.3 MB/s eta 0:00:07\n",
            "   ---------------------------- ----------- 88.4/124.9 MB 5.4 MB/s eta 0:00:07\n",
            "   ---------------------------- ----------- 88.6/124.9 MB 5.3 MB/s eta 0:00:07\n",
            "   ---------------------------- ----------- 88.8/124.9 MB 5.3 MB/s eta 0:00:07\n",
            "   ---------------------------- ----------- 89.1/124.9 MB 5.3 MB/s eta 0:00:07\n",
            "   ---------------------------- ----------- 89.3/124.9 MB 5.3 MB/s eta 0:00:07\n",
            "   ---------------------------- ----------- 89.4/124.9 MB 5.3 MB/s eta 0:00:07\n",
            "   ---------------------------- ----------- 89.7/124.9 MB 5.3 MB/s eta 0:00:07\n",
            "   ---------------------------- ----------- 89.9/124.9 MB 5.3 MB/s eta 0:00:07\n",
            "   ---------------------------- ----------- 90.0/124.9 MB 5.3 MB/s eta 0:00:07\n",
            "   ---------------------------- ----------- 90.3/124.9 MB 5.2 MB/s eta 0:00:07\n",
            "   ---------------------------- ----------- 90.4/124.9 MB 5.2 MB/s eta 0:00:07\n",
            "   ----------------------------- ---------- 90.7/124.9 MB 5.2 MB/s eta 0:00:07\n",
            "   ----------------------------- ---------- 90.8/124.9 MB 5.2 MB/s eta 0:00:07\n",
            "   ----------------------------- ---------- 91.0/124.9 MB 5.2 MB/s eta 0:00:07\n",
            "   ----------------------------- ---------- 91.2/124.9 MB 5.2 MB/s eta 0:00:07\n",
            "   ----------------------------- ---------- 91.5/124.9 MB 5.2 MB/s eta 0:00:07\n",
            "   ----------------------------- ---------- 91.6/124.9 MB 5.1 MB/s eta 0:00:07\n",
            "   ----------------------------- ---------- 91.9/124.9 MB 5.2 MB/s eta 0:00:07\n",
            "   ----------------------------- ---------- 92.1/124.9 MB 5.1 MB/s eta 0:00:07\n",
            "   ----------------------------- ---------- 92.3/124.9 MB 5.2 MB/s eta 0:00:07\n",
            "   ----------------------------- ---------- 92.5/124.9 MB 5.2 MB/s eta 0:00:07\n",
            "   ----------------------------- ---------- 92.8/124.9 MB 5.2 MB/s eta 0:00:07\n",
            "   ----------------------------- ---------- 92.9/124.9 MB 5.2 MB/s eta 0:00:07\n",
            "   ----------------------------- ---------- 93.2/124.9 MB 5.2 MB/s eta 0:00:07\n",
            "   ----------------------------- ---------- 93.4/124.9 MB 5.2 MB/s eta 0:00:07\n",
            "   ----------------------------- ---------- 93.7/124.9 MB 5.2 MB/s eta 0:00:07\n",
            "   ------------------------------ --------- 93.9/124.9 MB 5.2 MB/s eta 0:00:07\n",
            "   ------------------------------ --------- 94.1/124.9 MB 5.2 MB/s eta 0:00:06\n",
            "   ------------------------------ --------- 94.3/124.9 MB 5.2 MB/s eta 0:00:06\n",
            "   ------------------------------ --------- 94.6/124.9 MB 5.3 MB/s eta 0:00:06\n",
            "   ------------------------------ --------- 94.8/124.9 MB 5.2 MB/s eta 0:00:06\n",
            "   ------------------------------ --------- 95.0/124.9 MB 5.3 MB/s eta 0:00:06\n",
            "   ------------------------------ --------- 95.3/124.9 MB 5.2 MB/s eta 0:00:06\n",
            "   ------------------------------ --------- 95.5/124.9 MB 5.3 MB/s eta 0:00:06\n",
            "   ------------------------------ --------- 95.7/124.9 MB 5.3 MB/s eta 0:00:06\n",
            "   ------------------------------ --------- 95.9/124.9 MB 5.3 MB/s eta 0:00:06\n",
            "   ------------------------------ --------- 96.1/124.9 MB 5.3 MB/s eta 0:00:06\n",
            "   ------------------------------ --------- 96.4/124.9 MB 5.4 MB/s eta 0:00:06\n",
            "   ------------------------------ --------- 96.5/124.9 MB 5.3 MB/s eta 0:00:06\n",
            "   ------------------------------ --------- 96.7/124.9 MB 5.3 MB/s eta 0:00:06\n",
            "   ------------------------------- -------- 96.9/124.9 MB 5.3 MB/s eta 0:00:06\n",
            "   ------------------------------- -------- 97.1/124.9 MB 5.2 MB/s eta 0:00:06\n",
            "   ------------------------------- -------- 97.4/124.9 MB 5.3 MB/s eta 0:00:06\n",
            "   ------------------------------- -------- 97.5/124.9 MB 5.2 MB/s eta 0:00:06\n",
            "   ------------------------------- -------- 97.8/124.9 MB 5.3 MB/s eta 0:00:06\n",
            "   ------------------------------- -------- 98.0/124.9 MB 5.3 MB/s eta 0:00:06\n",
            "   ------------------------------- -------- 98.2/124.9 MB 5.3 MB/s eta 0:00:06\n",
            "   ------------------------------- -------- 98.4/124.9 MB 5.3 MB/s eta 0:00:05\n",
            "   ------------------------------- -------- 98.6/124.9 MB 5.3 MB/s eta 0:00:05\n",
            "   ------------------------------- -------- 98.8/124.9 MB 5.4 MB/s eta 0:00:05\n",
            "   ------------------------------- -------- 99.1/124.9 MB 5.4 MB/s eta 0:00:05\n",
            "   ------------------------------- -------- 99.2/124.9 MB 5.4 MB/s eta 0:00:05\n",
            "   ------------------------------- -------- 99.5/124.9 MB 5.4 MB/s eta 0:00:05\n",
            "   ------------------------------- -------- 99.6/124.9 MB 5.4 MB/s eta 0:00:05\n",
            "   ------------------------------- -------- 99.8/124.9 MB 5.4 MB/s eta 0:00:05\n",
            "   -------------------------------- ------- 100.1/124.9 MB 5.3 MB/s eta 0:00:05\n",
            "   -------------------------------- ------- 100.4/124.9 MB 5.4 MB/s eta 0:00:05\n",
            "   -------------------------------- ------- 100.5/124.9 MB 5.4 MB/s eta 0:00:05\n",
            "   -------------------------------- ------- 100.8/124.9 MB 5.5 MB/s eta 0:00:05\n",
            "   -------------------------------- ------- 101.0/124.9 MB 5.4 MB/s eta 0:00:05\n",
            "   -------------------------------- ------- 101.2/124.9 MB 5.5 MB/s eta 0:00:05\n",
            "   -------------------------------- ------- 101.4/124.9 MB 5.5 MB/s eta 0:00:05\n",
            "   -------------------------------- ------- 101.6/124.9 MB 5.5 MB/s eta 0:00:05\n",
            "   -------------------------------- ------- 101.7/124.9 MB 5.5 MB/s eta 0:00:05\n",
            "   -------------------------------- ------- 102.0/124.9 MB 5.5 MB/s eta 0:00:05\n",
            "   -------------------------------- ------- 102.1/124.9 MB 5.4 MB/s eta 0:00:05\n",
            "   -------------------------------- ------- 102.3/124.9 MB 5.5 MB/s eta 0:00:05\n",
            "   -------------------------------- ------- 102.5/124.9 MB 5.4 MB/s eta 0:00:05\n",
            "   -------------------------------- ------- 102.8/124.9 MB 5.4 MB/s eta 0:00:05\n",
            "   -------------------------------- ------- 102.8/124.9 MB 5.4 MB/s eta 0:00:05\n",
            "   -------------------------------- ------- 102.8/124.9 MB 5.4 MB/s eta 0:00:05\n",
            "   -------------------------------- ------- 102.8/124.9 MB 5.4 MB/s eta 0:00:05\n",
            "   --------------------------------- ------ 103.2/124.9 MB 5.2 MB/s eta 0:00:05\n",
            "   --------------------------------- ------ 103.4/124.9 MB 5.1 MB/s eta 0:00:05\n",
            "   --------------------------------- ------ 103.5/124.9 MB 5.1 MB/s eta 0:00:05\n",
            "   --------------------------------- ------ 103.8/124.9 MB 5.1 MB/s eta 0:00:05\n",
            "   --------------------------------- ------ 103.9/124.9 MB 5.0 MB/s eta 0:00:05\n",
            "   --------------------------------- ------ 104.0/124.9 MB 5.0 MB/s eta 0:00:05\n",
            "   --------------------------------- ------ 104.1/124.9 MB 5.0 MB/s eta 0:00:05\n",
            "   --------------------------------- ------ 104.3/124.9 MB 5.0 MB/s eta 0:00:05\n",
            "   --------------------------------- ------ 104.4/124.9 MB 4.9 MB/s eta 0:00:05\n",
            "   --------------------------------- ------ 104.5/124.9 MB 4.8 MB/s eta 0:00:05\n",
            "   --------------------------------- ------ 104.8/124.9 MB 4.9 MB/s eta 0:00:05\n",
            "   --------------------------------- ------ 104.9/124.9 MB 4.7 MB/s eta 0:00:05\n",
            "   --------------------------------- ------ 105.1/124.9 MB 4.7 MB/s eta 0:00:05\n",
            "   --------------------------------- ------ 105.3/124.9 MB 4.7 MB/s eta 0:00:05\n",
            "   --------------------------------- ------ 105.4/124.9 MB 4.7 MB/s eta 0:00:05\n",
            "   --------------------------------- ------ 105.6/124.9 MB 4.7 MB/s eta 0:00:05\n",
            "   --------------------------------- ------ 105.8/124.9 MB 4.7 MB/s eta 0:00:05\n",
            "   --------------------------------- ------ 106.0/124.9 MB 4.6 MB/s eta 0:00:05\n",
            "   ---------------------------------- ----- 106.2/124.9 MB 4.6 MB/s eta 0:00:05\n",
            "   ---------------------------------- ----- 106.3/124.9 MB 4.5 MB/s eta 0:00:05\n",
            "   ---------------------------------- ----- 106.5/124.9 MB 4.6 MB/s eta 0:00:05\n",
            "   ---------------------------------- ----- 106.7/124.9 MB 4.5 MB/s eta 0:00:05\n",
            "   ---------------------------------- ----- 106.9/124.9 MB 4.6 MB/s eta 0:00:04\n",
            "   ---------------------------------- ----- 107.1/124.9 MB 4.6 MB/s eta 0:00:04\n",
            "   ---------------------------------- ----- 107.2/124.9 MB 4.5 MB/s eta 0:00:04\n",
            "   ---------------------------------- ----- 107.5/124.9 MB 4.6 MB/s eta 0:00:04\n",
            "   ---------------------------------- ----- 107.7/124.9 MB 4.5 MB/s eta 0:00:04\n",
            "   ---------------------------------- ----- 107.8/124.9 MB 4.5 MB/s eta 0:00:04\n",
            "   ---------------------------------- ----- 108.1/124.9 MB 4.5 MB/s eta 0:00:04\n",
            "   ---------------------------------- ----- 108.3/124.9 MB 4.5 MB/s eta 0:00:04\n",
            "   ---------------------------------- ----- 108.5/124.9 MB 4.5 MB/s eta 0:00:04\n",
            "   ---------------------------------- ----- 108.6/124.9 MB 4.5 MB/s eta 0:00:04\n",
            "   ---------------------------------- ----- 108.9/124.9 MB 4.5 MB/s eta 0:00:04\n",
            "   ---------------------------------- ----- 109.1/124.9 MB 4.5 MB/s eta 0:00:04\n",
            "   ---------------------------------- ----- 109.3/124.9 MB 4.4 MB/s eta 0:00:04\n",
            "   ----------------------------------- ---- 109.5/124.9 MB 4.4 MB/s eta 0:00:04\n",
            "   ----------------------------------- ---- 109.7/124.9 MB 4.5 MB/s eta 0:00:04\n",
            "   ----------------------------------- ---- 109.9/124.9 MB 4.4 MB/s eta 0:00:04\n",
            "   ----------------------------------- ---- 110.1/124.9 MB 4.4 MB/s eta 0:00:04\n",
            "   ----------------------------------- ---- 110.2/124.9 MB 4.4 MB/s eta 0:00:04\n",
            "   ----------------------------------- ---- 110.3/124.9 MB 4.3 MB/s eta 0:00:04\n",
            "   ----------------------------------- ---- 110.3/124.9 MB 4.3 MB/s eta 0:00:04\n",
            "   ----------------------------------- ---- 110.7/124.9 MB 4.3 MB/s eta 0:00:04\n",
            "   ----------------------------------- ---- 110.9/124.9 MB 4.2 MB/s eta 0:00:04\n",
            "   ----------------------------------- ---- 111.0/124.9 MB 4.2 MB/s eta 0:00:04\n",
            "   ----------------------------------- ---- 111.2/124.9 MB 4.2 MB/s eta 0:00:04\n",
            "   ----------------------------------- ---- 111.3/124.9 MB 4.1 MB/s eta 0:00:04\n",
            "   ----------------------------------- ---- 111.4/124.9 MB 4.1 MB/s eta 0:00:04\n",
            "   ----------------------------------- ---- 111.5/124.9 MB 4.1 MB/s eta 0:00:04\n",
            "   ----------------------------------- ---- 111.6/124.9 MB 4.0 MB/s eta 0:00:04\n",
            "   ----------------------------------- ---- 111.7/124.9 MB 4.0 MB/s eta 0:00:04\n",
            "   ----------------------------------- ---- 111.9/124.9 MB 4.0 MB/s eta 0:00:04\n",
            "   ----------------------------------- ---- 112.1/124.9 MB 4.0 MB/s eta 0:00:04\n",
            "   ----------------------------------- ---- 112.2/124.9 MB 3.9 MB/s eta 0:00:04\n",
            "   ------------------------------------ --- 112.4/124.9 MB 3.9 MB/s eta 0:00:04\n",
            "   ------------------------------------ --- 112.5/124.9 MB 3.9 MB/s eta 0:00:04\n",
            "   ------------------------------------ --- 112.6/124.9 MB 3.8 MB/s eta 0:00:04\n",
            "   ------------------------------------ --- 112.8/124.9 MB 3.9 MB/s eta 0:00:04\n",
            "   ------------------------------------ --- 112.9/124.9 MB 3.8 MB/s eta 0:00:04\n",
            "   ------------------------------------ --- 113.1/124.9 MB 4.0 MB/s eta 0:00:03\n",
            "   ------------------------------------ --- 113.2/124.9 MB 3.9 MB/s eta 0:00:03\n",
            "   ------------------------------------ --- 113.4/124.9 MB 3.9 MB/s eta 0:00:03\n",
            "   ------------------------------------ --- 113.5/124.9 MB 3.9 MB/s eta 0:00:03\n",
            "   ------------------------------------ --- 113.7/124.9 MB 3.9 MB/s eta 0:00:03\n",
            "   ------------------------------------ --- 114.0/124.9 MB 3.9 MB/s eta 0:00:03\n",
            "   ------------------------------------ --- 114.2/124.9 MB 3.9 MB/s eta 0:00:03\n",
            "   ------------------------------------ --- 114.4/124.9 MB 3.9 MB/s eta 0:00:03\n",
            "   ------------------------------------ --- 114.6/124.9 MB 3.9 MB/s eta 0:00:03\n",
            "   ------------------------------------ --- 114.8/124.9 MB 4.0 MB/s eta 0:00:03\n",
            "   ------------------------------------ --- 115.0/124.9 MB 3.9 MB/s eta 0:00:03\n",
            "   ------------------------------------ --- 115.2/124.9 MB 4.0 MB/s eta 0:00:03\n",
            "   ------------------------------------ --- 115.4/124.9 MB 3.9 MB/s eta 0:00:03\n",
            "   ------------------------------------- -- 115.6/124.9 MB 4.0 MB/s eta 0:00:03\n",
            "   ------------------------------------- -- 115.7/124.9 MB 4.0 MB/s eta 0:00:03\n",
            "   ------------------------------------- -- 115.8/124.9 MB 4.0 MB/s eta 0:00:03\n",
            "   ------------------------------------- -- 116.0/124.9 MB 3.9 MB/s eta 0:00:03\n",
            "   ------------------------------------- -- 116.1/124.9 MB 3.9 MB/s eta 0:00:03\n",
            "   ------------------------------------- -- 116.3/124.9 MB 3.9 MB/s eta 0:00:03\n",
            "   ------------------------------------- -- 116.4/124.9 MB 3.9 MB/s eta 0:00:03\n",
            "   ------------------------------------- -- 116.6/124.9 MB 3.9 MB/s eta 0:00:03\n",
            "   ------------------------------------- -- 116.7/124.9 MB 3.8 MB/s eta 0:00:03\n",
            "   ------------------------------------- -- 116.8/124.9 MB 3.8 MB/s eta 0:00:03\n",
            "   ------------------------------------- -- 116.9/124.9 MB 3.8 MB/s eta 0:00:03\n",
            "   ------------------------------------- -- 116.9/124.9 MB 3.8 MB/s eta 0:00:03\n",
            "   ------------------------------------- -- 117.2/124.9 MB 3.7 MB/s eta 0:00:03\n",
            "   ------------------------------------- -- 117.2/124.9 MB 3.7 MB/s eta 0:00:03\n",
            "   ------------------------------------- -- 117.4/124.9 MB 3.7 MB/s eta 0:00:03\n",
            "   ------------------------------------- -- 117.5/124.9 MB 3.7 MB/s eta 0:00:02\n",
            "   ------------------------------------- -- 117.6/124.9 MB 3.7 MB/s eta 0:00:02\n",
            "   ------------------------------------- -- 117.7/124.9 MB 3.6 MB/s eta 0:00:02\n",
            "   ------------------------------------- -- 117.8/124.9 MB 3.7 MB/s eta 0:00:02\n",
            "   ------------------------------------- -- 118.0/124.9 MB 3.6 MB/s eta 0:00:02\n",
            "   ------------------------------------- -- 118.0/124.9 MB 3.6 MB/s eta 0:00:02\n",
            "   ------------------------------------- -- 118.0/124.9 MB 3.6 MB/s eta 0:00:02\n",
            "   ------------------------------------- -- 118.0/124.9 MB 3.6 MB/s eta 0:00:02\n",
            "   ------------------------------------- -- 118.3/124.9 MB 3.5 MB/s eta 0:00:02\n",
            "   ------------------------------------- -- 118.3/124.9 MB 3.5 MB/s eta 0:00:02\n",
            "   ------------------------------------- -- 118.3/124.9 MB 3.4 MB/s eta 0:00:02\n",
            "   ------------------------------------- -- 118.5/124.9 MB 3.4 MB/s eta 0:00:02\n",
            "   ------------------------------------- -- 118.5/124.9 MB 3.4 MB/s eta 0:00:02\n",
            "   ------------------------------------- -- 118.6/124.9 MB 3.3 MB/s eta 0:00:02\n",
            "   -------------------------------------- - 118.7/124.9 MB 3.3 MB/s eta 0:00:02\n",
            "   -------------------------------------- - 118.8/124.9 MB 3.3 MB/s eta 0:00:02\n",
            "   -------------------------------------- - 118.9/124.9 MB 3.3 MB/s eta 0:00:02\n",
            "   -------------------------------------- - 119.0/124.9 MB 3.3 MB/s eta 0:00:02\n",
            "   -------------------------------------- - 119.1/124.9 MB 3.2 MB/s eta 0:00:02\n",
            "   -------------------------------------- - 119.2/124.9 MB 3.2 MB/s eta 0:00:02\n",
            "   -------------------------------------- - 119.2/124.9 MB 3.2 MB/s eta 0:00:02\n",
            "   -------------------------------------- - 119.3/124.9 MB 3.2 MB/s eta 0:00:02\n",
            "   -------------------------------------- - 119.4/124.9 MB 3.2 MB/s eta 0:00:02\n",
            "   -------------------------------------- - 119.5/124.9 MB 3.1 MB/s eta 0:00:02\n",
            "   -------------------------------------- - 119.6/124.9 MB 3.1 MB/s eta 0:00:02\n",
            "   -------------------------------------- - 119.7/124.9 MB 3.1 MB/s eta 0:00:02\n",
            "   -------------------------------------- - 119.8/124.9 MB 3.1 MB/s eta 0:00:02\n",
            "   -------------------------------------- - 119.9/124.9 MB 3.0 MB/s eta 0:00:02\n",
            "   -------------------------------------- - 120.0/124.9 MB 3.0 MB/s eta 0:00:02\n",
            "   -------------------------------------- - 120.1/124.9 MB 3.0 MB/s eta 0:00:02\n",
            "   -------------------------------------- - 120.1/124.9 MB 3.0 MB/s eta 0:00:02\n",
            "   -------------------------------------- - 120.2/124.9 MB 3.0 MB/s eta 0:00:02\n",
            "   -------------------------------------- - 120.3/124.9 MB 2.9 MB/s eta 0:00:02\n",
            "   -------------------------------------- - 120.4/124.9 MB 2.9 MB/s eta 0:00:02\n",
            "   -------------------------------------- - 120.5/124.9 MB 2.9 MB/s eta 0:00:02\n",
            "   -------------------------------------- - 120.6/124.9 MB 3.0 MB/s eta 0:00:02\n",
            "   -------------------------------------- - 120.7/124.9 MB 2.9 MB/s eta 0:00:02\n",
            "   -------------------------------------- - 120.8/124.9 MB 2.9 MB/s eta 0:00:02\n",
            "   -------------------------------------- - 120.9/124.9 MB 2.9 MB/s eta 0:00:02\n",
            "   -------------------------------------- - 121.0/124.9 MB 2.8 MB/s eta 0:00:02\n",
            "   -------------------------------------- - 121.1/124.9 MB 2.8 MB/s eta 0:00:02\n",
            "   -------------------------------------- - 121.2/124.9 MB 2.8 MB/s eta 0:00:02\n",
            "   -------------------------------------- - 121.3/124.9 MB 2.8 MB/s eta 0:00:02\n",
            "   -------------------------------------- - 121.4/124.9 MB 2.8 MB/s eta 0:00:02\n",
            "   -------------------------------------- - 121.6/124.9 MB 2.8 MB/s eta 0:00:02\n",
            "   -------------------------------------- - 121.6/124.9 MB 2.8 MB/s eta 0:00:02\n",
            "   -------------------------------------- - 121.8/124.9 MB 2.8 MB/s eta 0:00:02\n",
            "   ---------------------------------------  121.9/124.9 MB 2.8 MB/s eta 0:00:02\n",
            "   ---------------------------------------  122.0/124.9 MB 2.8 MB/s eta 0:00:02\n",
            "   ---------------------------------------  122.1/124.9 MB 2.8 MB/s eta 0:00:02\n",
            "   ---------------------------------------  122.2/124.9 MB 2.8 MB/s eta 0:00:01\n",
            "   ---------------------------------------  122.3/124.9 MB 2.8 MB/s eta 0:00:01\n",
            "   ---------------------------------------  122.4/124.9 MB 2.8 MB/s eta 0:00:01\n",
            "   ---------------------------------------  122.5/124.9 MB 2.8 MB/s eta 0:00:01\n",
            "   ---------------------------------------  122.6/124.9 MB 2.8 MB/s eta 0:00:01\n",
            "   ---------------------------------------  122.8/124.9 MB 2.8 MB/s eta 0:00:01\n",
            "   ---------------------------------------  122.8/124.9 MB 2.8 MB/s eta 0:00:01\n",
            "   ---------------------------------------  123.0/124.9 MB 2.7 MB/s eta 0:00:01\n",
            "   ---------------------------------------  123.1/124.9 MB 2.7 MB/s eta 0:00:01\n",
            "   ---------------------------------------  123.2/124.9 MB 2.7 MB/s eta 0:00:01\n",
            "   ---------------------------------------  123.3/124.9 MB 2.7 MB/s eta 0:00:01\n",
            "   ---------------------------------------  123.4/124.9 MB 2.7 MB/s eta 0:00:01\n",
            "   ---------------------------------------  123.5/124.9 MB 2.7 MB/s eta 0:00:01\n",
            "   ---------------------------------------  123.6/124.9 MB 2.7 MB/s eta 0:00:01\n",
            "   ---------------------------------------  123.8/124.9 MB 2.7 MB/s eta 0:00:01\n",
            "   ---------------------------------------  123.9/124.9 MB 2.6 MB/s eta 0:00:01\n",
            "   ---------------------------------------  124.0/124.9 MB 2.6 MB/s eta 0:00:01\n",
            "   ---------------------------------------  124.2/124.9 MB 2.6 MB/s eta 0:00:01\n",
            "   ---------------------------------------  124.3/124.9 MB 2.6 MB/s eta 0:00:01\n",
            "   ---------------------------------------  124.4/124.9 MB 2.6 MB/s eta 0:00:01\n",
            "   ---------------------------------------  124.5/124.9 MB 2.6 MB/s eta 0:00:01\n",
            "   ---------------------------------------  124.7/124.9 MB 2.6 MB/s eta 0:00:01\n",
            "   ---------------------------------------  124.8/124.9 MB 2.6 MB/s eta 0:00:01\n",
            "   ---------------------------------------  124.9/124.9 MB 2.6 MB/s eta 0:00:01\n",
            "   ---------------------------------------  124.9/124.9 MB 2.6 MB/s eta 0:00:01\n",
            "   ---------------------------------------  124.9/124.9 MB 2.6 MB/s eta 0:00:01\n",
            "   ---------------------------------------- 124.9/124.9 MB 2.5 MB/s eta 0:00:00\n",
            "Installing collected packages: xgboost\n",
            "Successfully installed xgboost-2.1.1\n"
          ]
        }
      ],
      "source": [
        "!pip install xgboost"
      ]
    },
    {
      "cell_type": "code",
      "execution_count": 11,
      "metadata": {},
      "outputs": [
        {
          "name": "stdout",
          "output_type": "stream",
          "text": [
            "Accuracy:  0.8444022770398482\n",
            "Confusion Matrix:\n",
            " [[ 1633  2027]\n",
            " [  433 11717]]\n",
            "Precision:  0.8381410935500208\n",
            "Recall:  0.8444022770398482\n",
            "F1 Score:  0.8275338765347617\n"
          ]
        }
      ],
      "source": [
        "# use model XGBClassifier to compare with our model\n",
        "from xgboost import XGBClassifier\n",
        "from sklearn.feature_extraction.text import CountVectorizer\n",
        "from sklearn.pipeline import make_pipeline\n",
        "from sklearn.metrics import confusion_matrix, precision_score, recall_score, f1_score\n",
        "\n",
        "model = make_pipeline(CountVectorizer(), XGBClassifier())\n",
        "model.fit(train_x, train_y)\n",
        "pred = model.predict(test_x)\n",
        "    \n",
        "# Calculate accuracy\n",
        "accuracy = np.mean(pred == test_y)\n",
        "print('Accuracy: ', accuracy)\n",
        "# show confusion matrix\n",
        "conf_matrix = confusion_matrix(test_y, pred)\n",
        "print('Confusion Matrix:\\n', conf_matrix)\n",
        "\n",
        "# Calculate precision, recall, and F1 score\n",
        "\n",
        "precision = precision_score(test_y, pred, average='weighted')\n",
        "recall = recall_score(test_y, pred, average='weighted')\n",
        "f1 = f1_score(test_y, pred, average='weighted')\n",
        "\n",
        "print('Precision: ', precision)\n",
        "print('Recall: ', recall)\n",
        "print('F1 Score: ', f1)\n"
      ]
    },
    {
      "cell_type": "code",
      "execution_count": 12,
      "metadata": {},
      "outputs": [
        {
          "name": "stdout",
          "output_type": "stream",
          "text": [
            "Accuracy:  0.8533839342188488\n",
            "Confusion Matrix:\n",
            " [[ 2027  1633]\n",
            " [  685 11465]]\n",
            "Precision:  0.8457144524434377\n",
            "Recall:  0.8533839342188488\n",
            "F1 Score:  0.8452300015041799\n"
          ]
        }
      ],
      "source": [
        "# use model SGD Classifier to compare with our model\n",
        "from sklearn.linear_model import SGDClassifier\n",
        "from sklearn.feature_extraction.text import CountVectorizer\n",
        "from sklearn.pipeline import make_pipeline\n",
        "from sklearn.metrics import confusion_matrix, precision_score, recall_score, f1_score\n",
        "\n",
        "model = make_pipeline(CountVectorizer(), SGDClassifier())\n",
        "model.fit(train_x, train_y)\n",
        "pred = model.predict(test_x)\n",
        "\n",
        "# Calculate accuracy\n",
        "accuracy = np.mean(pred == test_y)\n",
        "print('Accuracy: ', accuracy)\n",
        "# show confusion matrix\n",
        "conf_matrix = confusion_matrix(test_y, pred)\n",
        "print('Confusion Matrix:\\n', conf_matrix)\n",
        "\n",
        "# Calculate precision, recall, and F1 score\n",
        "\n",
        "precision = precision_score(test_y, pred, average='weighted')\n",
        "recall = recall_score(test_y, pred, average='weighted')\n",
        "f1 = f1_score(test_y, pred, average='weighted')\n",
        "\n",
        "print('Precision: ', precision)\n",
        "print('Recall: ', recall)\n",
        "print('F1 Score: ', f1)\n"
      ]
    },
    {
      "cell_type": "code",
      "execution_count": 13,
      "metadata": {},
      "outputs": [
        {
          "name": "stderr",
          "output_type": "stream",
          "text": [
            "c:\\Users\\Asus\\anaconda3\\envs\\test\\lib\\site-packages\\sklearn\\linear_model\\_logistic.py:469: ConvergenceWarning: lbfgs failed to converge (status=1):\n",
            "STOP: TOTAL NO. of ITERATIONS REACHED LIMIT.\n",
            "\n",
            "Increase the number of iterations (max_iter) or scale the data as shown in:\n",
            "    https://scikit-learn.org/stable/modules/preprocessing.html\n",
            "Please also refer to the documentation for alternative solver options:\n",
            "    https://scikit-learn.org/stable/modules/linear_model.html#logistic-regression\n",
            "  n_iter_i = _check_optimize_result(\n"
          ]
        },
        {
          "name": "stdout",
          "output_type": "stream",
          "text": [
            "Accuracy:  0.8368753953194181\n",
            "Confusion Matrix:\n",
            " [[ 1816  1844]\n",
            " [  735 11415]]\n",
            "Precision:  0.8264204251383845\n",
            "Recall:  0.8368753953194181\n",
            "F1 Score:  0.8258719698144881\n"
          ]
        }
      ],
      "source": [
        "# use library sklearn use logistic regression to compare with our model\n",
        "from sklearn.linear_model import LogisticRegression\n",
        "model = make_pipeline(CountVectorizer(), LogisticRegression())\n",
        "model.fit(train_x, train_y)\n",
        "pred = model.predict(test_x)\n",
        "\n",
        "# Calculate accuracy\n",
        "accuracy = np.mean(pred == test_y)\n",
        "print('Accuracy: ', accuracy)\n",
        "# show confusion matrix\n",
        "conf_matrix = confusion_matrix(test_y, pred)\n",
        "print('Confusion Matrix:\\n', conf_matrix)\n",
        "# Calculate precision, recall, and F1 score\n",
        "\n",
        "precision = precision_score(test_y, pred, average='weighted')\n",
        "recall = recall_score(test_y, pred, average='weighted')\n",
        "f1 = f1_score(test_y, pred, average='weighted')\n",
        "\n",
        "print('Precision: ', precision)\n",
        "print('Recall: ', recall)\n",
        "print('F1 Score: ', f1)"
      ]
    }
  ],
  "metadata": {
    "colab": {
      "collapsed_sections": [],
      "provenance": [],
      "toc_visible": true
    },
    "kernelspec": {
      "display_name": "Python 3",
      "name": "python3"
    },
    "language_info": {
      "codemirror_mode": {
        "name": "ipython",
        "version": 3
      },
      "file_extension": ".py",
      "mimetype": "text/x-python",
      "name": "python",
      "nbconvert_exporter": "python",
      "pygments_lexer": "ipython3",
      "version": "3.9.16"
    }
  },
  "nbformat": 4,
  "nbformat_minor": 0
}
